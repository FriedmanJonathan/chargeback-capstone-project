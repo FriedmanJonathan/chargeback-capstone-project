{
 "cells": [
  {
   "cell_type": "markdown",
   "id": "63e65154",
   "metadata": {},
   "source": [
    "# Classifying Chargeback: a Data Science Capstone Project"
   ]
  },
  {
   "cell_type": "markdown",
   "id": "7544cce3",
   "metadata": {},
   "source": [
    "This notebook details the design of a ML classification model which helped Credorax, a smart payments provider, tackle one of the biggest nuisances to the business: chargeback. After exploring and cleaning the data provided, our team (shoutout to Amy, Adi, and Vladi!) managed to design a model which, if implemented, would **increase profits by an average of 2%.**\n",
    "\n",
    "My personal contributions to the projects centered on feature engineering, translating the business problem into appropriate evaluation metrics, and optimizing some of the classification models. With my peers' permission, I've taken the liberty of organizing the entire project in a single notebook (as opposed to the multiple Google Colab files we worked with) in order to help aspiring data scientist understand good practices and techniques when analyzing real-world data for real-world business problems.\n",
    "\n",
    "So, without further ado, let's tackle a real-world business problem with Machine Learning! I hope you enjoy the ride."
   ]
  },
  {
   "cell_type": "markdown",
   "id": "a77b8493",
   "metadata": {},
   "source": [
    "## Contents"
   ]
  },
  {
   "cell_type": "markdown",
   "id": "482d2a4c",
   "metadata": {},
   "source": [
    "table of contents goes here, with links"
   ]
  },
  {
   "cell_type": "markdown",
   "id": "cbd63d10",
   "metadata": {},
   "source": [
    "## The Business Problem"
   ]
  },
  {
   "cell_type": "markdown",
   "id": "c5b0074c",
   "metadata": {},
   "source": [
    "**Chargeback** is the payment amount that is returned to a debit or credit card, after a customer disputes the transaction or simply returns the purchased item. The chargeback process can be initiated by either the merchant or the cardholder’s issuing bank. Merchants typically incur a significant fee from the card issuer when a chargeback occurs. \n",
    "\n",
    "Since part of Credorax's business is enabling transactions for merchants (and taking a percentage of the transaction), they are negatively affected when they fail to preemptively block a sale in which the chargeback ultimately occurs: this false negative (type II) error results in loss of business due to an unsatisfied merchant using Credorax's services. However, Credorax naturally can't afford to label valid transactions as chargebacks (a false positive, type I error) - aside from the loss of business from the sale, Credorax's reputation is tarnished and the customer's lifetime value will decrease. Let's summarize these scenarios in a table, along with the company's estimates of profits or losses for each case:"
   ]
  },
  {
   "cell_type": "markdown",
   "id": "6afc0879",
   "metadata": {},
   "source": [
    "| &darr; Prediction \\ Actual &rarr;| No Chargeback | Chargeback |\n",
    "| :-: | :-: | :-: |\n",
    "| **No Chargeback** | **TN** - legitimate transaction authorized, company **earns 15% of transaction amount** | **FN** - fradulant transaction authorized, company **loses 230% of transaction amount** (e.g. merchant compensation)|\n",
    "| **Chargeback** | **FP** - legitimate transaction blocked, company **loses 200% of transaction amount** (due to angry merchants and customers) | **TP** - fradulant transaction blocked, **no profit or loss**|"
   ]
  },
  {
   "cell_type": "markdown",
   "id": "987b5864",
   "metadata": {},
   "source": [
    "It is therefore quite clear how an appropriate **classification model** can improve Credorax's profitability, and for that purpose our team  was tasked with designing a model which would improve the company's baseline strategy of labeling all transactions as valid. But before we start examining the wide range of available models at our disposal, we must fully understand the data we're given and determine how it can best be used for our models."
   ]
  },
  {
   "cell_type": "markdown",
   "id": "e58243b1",
   "metadata": {},
   "source": [
    "So - what must a prudent data scientist do before modeling? Here's a simple checklist to get us started:\n",
    "\n",
    "1. **Loading the data.** This may be trivial if we're given a single CSV or JSON file, but in many cases we'll be given our data in parts (and therefore will need to use **joins** and **concatenations**) or in more advanced formats (e.g. zipped or pickled files).\n",
    " \n",
    "2. **Examining the data.** What is the **size** of our dataset? How many **features** do we have to work with, and are they all relevant? Are there many **missing values** for some of the features? Are the features **correlated**?   In the vast majority of cases, the answers to these questions will involve:\n",
    " \n",
    "3. **Visualizing the data**, by using Python's major packages, such as **pandas** for data structure and **matplotlib** or **seaborn** for basic and advanced charts and plots (but there are many options, choose what suits you best!). Common visualizations include bar charts for examining the distribution of categorical data, scatter plots and heat-maps to examine correlation, or perhaps even a violin plot (good for comparing two groups side by side) if you're feeling fancy. \n",
    " \n",
    "4. **Transforming the data**. In some cases, we'll need to make some changes before we're ready to unleash some models: we might need to **impute** missing data (perhaps by using the mean) or **drop** the problematic features or samples entirely; we may choose to **disregard features due to irrelevancy or high correlation** to other features "
   ]
  },
  {
   "cell_type": "markdown",
   "id": "9aeaac29",
   "metadata": {},
   "source": [
    "The aforementioned are often summarized as **ETL** ([Extract, Transform, Load](https://en.wikipedia.org/wiki/Extract,_transform,_load)), which is a three-phase process where data is extracted, transformed (cleaned, sanitized, scrubbed) and loaded into an output data container, and **EDA** ([Exploratory Data Analysis](https://en.wikipedia.org/wiki/Exploratory_data_analysis)), a highly visual and methodical approach of analyzing datasets. Further reading about both topics is encouraged!\n",
    "\n",
    "It should go without saying that this list is not exhaustive, and you'll need to think long and hard about the dataset you're working with and how to best use it. In addition, data science is an **iterative** process: you'll be repeating the steps above many times as you get to know your data better, and once you've run a basic model or two you'll think of many other ways the data must be examined or transformed in order to get better results. You might even realize you need more data! Here's the CRISP-DM (short for [CRoss-Industry Standard Process for Data Mining](https://en.wikipedia.org/wiki/Cross-industry_standard_process_for_data_mining)) methodology which was presented in our class and highlights this point:"
   ]
  },
  {
   "cell_type": "markdown",
   "id": "a23eaf88",
   "metadata": {},
   "source": [
    "<img src=\"CRISP-DM_Process_Diagram.png\" alt=\"Drawing\" style=\"width: 400px;\"/>"
   ]
  },
  {
   "cell_type": "markdown",
   "id": "cf3e0db8",
   "metadata": {},
   "source": [
    "(Image by Kenneth Jensen - Own work based on:ftp://public.dhe.ibm.com/software/analytics/spss/documentation/modeler/18.0/en/ModelerCRISPDM.pdf (Figure 1), CC BY-SA 3.0, https://commons.wikimedia.org/w/index.php?curid=24930610)"
   ]
  },
  {
   "cell_type": "markdown",
   "id": "23197144",
   "metadata": {},
   "source": [
    "Let's dive into our data and see what we have to work with."
   ]
  },
  {
   "cell_type": "markdown",
   "id": "dd18cc9e",
   "metadata": {},
   "source": [
    "## Data Overview"
   ]
  },
  {
   "cell_type": "markdown",
   "id": "92ffa8ea",
   "metadata": {},
   "source": [
    "The data provided by the company can be split into two categories: data on the *transaction* level (millions of entries loaded and concatenated from zipped files), and *general* data (provided in separate CSV tables) about the merchants, credit card security measures, location and more. The tranasctional data contains keys which are linked to the general data tables, allowing us to use joins to create one large dataset which will ultimately be used for the classification models. The data can be summarized as follows:"
   ]
  },
  {
   "cell_type": "markdown",
   "id": "0ef18fa8",
   "metadata": {},
   "source": [
    "| Table | Format | # Files | Size | Description |\n",
    "| :-: | :-: | :-: | :-: |:-- |\n",
    "| **DIM_AVS_RESPONSE** | CSV | 1 | (25, 7) | The type of response the AVS credit card security measure returns: match or mismatch for address and postal code. |\n",
    "| **DIM_CVV_RESPONSE** | CSV | 1 | (8, 4) | The response for the CVV (3/4 numbers on back of card - did the buyer list them properly. |\n",
    "| **DIM_DISPUTE_REASON** | CSV | 1 | (328, 4) | Detailed explanation of the dispute reason which led to the chargeback. |\n",
    "| **DIM_MCC** | CSV | 1 | (1353,5) | Merchant details, including if industry and sector are high-risk (think online gambling) |\n",
    "| **DIM_TRX_REGION** | CSV | 1 | (129310, 23) | Data relating to regions and location, e.g. billing address, IP location, merchant location. Also include credit card type (e.g. VISA / Mastercard).|\n",
    "| **result_xx-05-2020** | CSV (zipped) | 31 | (6023968, 14) | The **main table** with all transactional data *except* the chargeback/no-chargeback labeling. |\n",
    "| **labels_xx-xx-05-2020** | CSV (zipped) | 2 | (6038459, 2) | For every transaction, labels stating the chargeback reason index (which can simply be \"no chargeback\").|\n"
   ]
  },
  {
   "cell_type": "markdown",
   "id": "b8b9b0a1",
   "metadata": {},
   "source": [
    "We will now examine the data in greater depth. This will be done in two parts:\n",
    "\n",
    "1. Analysis of the general data tables, in order to provide insight about the data and to determine which features would be useful for the classification model as-is, which ones should be dropped, and if there are new features which can be engineered based on the data.\n",
    "2. Once the initial analysis has been conducted and the ETL process been refined accordingly, we load the full table of transaction data (and join the chargeback reason label and all other tables) and conduct further EDA analysis which will help us understand the relationship between the features and the target variable."
   ]
  },
  {
   "cell_type": "markdown",
   "id": "b1100d3e",
   "metadata": {},
   "source": [
    "## ETL: Loading the Data and Creating Our Master Table"
   ]
  },
  {
   "cell_type": "markdown",
   "id": "6b3ecdb3",
   "metadata": {},
   "source": [
    "### Imports"
   ]
  },
  {
   "cell_type": "markdown",
   "id": "a141f0dd",
   "metadata": {},
   "source": [
    "Let's first import an array of useful Python packages which will assist us: "
   ]
  },
  {
   "cell_type": "code",
   "execution_count": 1,
   "id": "37bf378b",
   "metadata": {},
   "outputs": [],
   "source": [
    "import io\n",
    "import matplotlib\n",
    "import numpy as np\n",
    "import pandas as pd\n",
    "from os import path\n",
    "from PIL import Image\n",
    "import matplotlib.pyplot as plt"
   ]
  },
  {
   "cell_type": "markdown",
   "id": "621798f0",
   "metadata": {},
   "source": [
    "### AVS response analysis"
   ]
  },
  {
   "cell_type": "markdown",
   "id": "9df66486",
   "metadata": {},
   "source": [
    "The Address Verification Service (AVS) is a tool that enables merchants to detect suspicious credit card transactions and prevent credit card fraud. AVS verifies that the billing address entered by the customer is the same as the one associated with the cardholder’s credit card account. AVS response codes are returned to the merchant during the authorization process and help the merchant determine the next action, which could be transaction approval, exception, or decline. (from [Address Verification Service, Investopedia](https://www.investopedia.com/terms/a/address-verification-system.asp))\n",
    "\n",
    "Let's take a look at the AVS response table the company provided."
   ]
  },
  {
   "cell_type": "code",
   "execution_count": 2,
   "id": "8a767906",
   "metadata": {},
   "outputs": [
    {
     "data": {
      "text/html": [
       "<div>\n",
       "<style scoped>\n",
       "    .dataframe tbody tr th:only-of-type {\n",
       "        vertical-align: middle;\n",
       "    }\n",
       "\n",
       "    .dataframe tbody tr th {\n",
       "        vertical-align: top;\n",
       "    }\n",
       "\n",
       "    .dataframe thead th {\n",
       "        text-align: right;\n",
       "    }\n",
       "</style>\n",
       "<table border=\"1\" class=\"dataframe\">\n",
       "  <thead>\n",
       "    <tr style=\"text-align: right;\">\n",
       "      <th></th>\n",
       "      <th>AVS_RESPONSE_KEY</th>\n",
       "      <th>ETL_RUN_DATE</th>\n",
       "      <th>ETL_CREATION_DATE</th>\n",
       "      <th>ETL_UPDATE_DATE</th>\n",
       "      <th>ETL_LOAD_NO</th>\n",
       "      <th>ETL_PROCESS_NAME</th>\n",
       "      <th>ETL_SOURCE</th>\n",
       "      <th>SOURCE_SYSTEM_KEY</th>\n",
       "      <th>AVS_RESPONSE_ID</th>\n",
       "      <th>AVS_RESPONSE_DESC</th>\n",
       "    </tr>\n",
       "  </thead>\n",
       "  <tbody>\n",
       "    <tr>\n",
       "      <th>0</th>\n",
       "      <td>21</td>\n",
       "      <td>2017-12-02</td>\n",
       "      <td>2017-12-03</td>\n",
       "      <td>2021-03-02</td>\n",
       "      <td>280</td>\n",
       "      <td>m_stg_dim_avs_response</td>\n",
       "      <td>GLOBAL</td>\n",
       "      <td>14</td>\n",
       "      <td>E</td>\n",
       "      <td>AVS service is not available for the particula...</td>\n",
       "    </tr>\n",
       "    <tr>\n",
       "      <th>1</th>\n",
       "      <td>22</td>\n",
       "      <td>2017-12-02</td>\n",
       "      <td>2017-12-03</td>\n",
       "      <td>2021-03-02</td>\n",
       "      <td>280</td>\n",
       "      <td>m_stg_dim_avs_response</td>\n",
       "      <td>GLOBAL</td>\n",
       "      <td>14</td>\n",
       "      <td>-</td>\n",
       "      <td>AVS service is not available for the particula...</td>\n",
       "    </tr>\n",
       "    <tr>\n",
       "      <th>2</th>\n",
       "      <td>-99</td>\n",
       "      <td>2014-04-17</td>\n",
       "      <td>2014-04-17</td>\n",
       "      <td>2014-04-17</td>\n",
       "      <td>0</td>\n",
       "      <td>Manual</td>\n",
       "      <td>GLOBAL</td>\n",
       "      <td>15</td>\n",
       "      <td>-1</td>\n",
       "      <td>Unknown AVS Response</td>\n",
       "    </tr>\n",
       "    <tr>\n",
       "      <th>3</th>\n",
       "      <td>155</td>\n",
       "      <td>2017-12-02</td>\n",
       "      <td>2014-05-19</td>\n",
       "      <td>2021-03-02</td>\n",
       "      <td>1353</td>\n",
       "      <td>m_stg_dim_avs_response</td>\n",
       "      <td>GLOBAL</td>\n",
       "      <td>15</td>\n",
       "      <td>A</td>\n",
       "      <td>Partial Match - Address match; Zip/Postal Code...</td>\n",
       "    </tr>\n",
       "    <tr>\n",
       "      <th>4</th>\n",
       "      <td>156</td>\n",
       "      <td>2017-12-02</td>\n",
       "      <td>2014-05-19</td>\n",
       "      <td>2021-03-02</td>\n",
       "      <td>1353</td>\n",
       "      <td>m_stg_dim_avs_response</td>\n",
       "      <td>GLOBAL</td>\n",
       "      <td>15</td>\n",
       "      <td>B</td>\n",
       "      <td>Partial Match - Address match; Zip/Postal Code...</td>\n",
       "    </tr>\n",
       "  </tbody>\n",
       "</table>\n",
       "</div>"
      ],
      "text/plain": [
       "   AVS_RESPONSE_KEY ETL_RUN_DATE ETL_CREATION_DATE ETL_UPDATE_DATE  \\\n",
       "0                21   2017-12-02        2017-12-03      2021-03-02   \n",
       "1                22   2017-12-02        2017-12-03      2021-03-02   \n",
       "2               -99   2014-04-17        2014-04-17      2014-04-17   \n",
       "3               155   2017-12-02        2014-05-19      2021-03-02   \n",
       "4               156   2017-12-02        2014-05-19      2021-03-02   \n",
       "\n",
       "   ETL_LOAD_NO        ETL_PROCESS_NAME ETL_SOURCE  SOURCE_SYSTEM_KEY  \\\n",
       "0          280  m_stg_dim_avs_response     GLOBAL                 14   \n",
       "1          280  m_stg_dim_avs_response     GLOBAL                 14   \n",
       "2            0                  Manual     GLOBAL                 15   \n",
       "3         1353  m_stg_dim_avs_response     GLOBAL                 15   \n",
       "4         1353  m_stg_dim_avs_response     GLOBAL                 15   \n",
       "\n",
       "  AVS_RESPONSE_ID                                  AVS_RESPONSE_DESC  \n",
       "0               E  AVS service is not available for the particula...  \n",
       "1               -  AVS service is not available for the particula...  \n",
       "2              -1                               Unknown AVS Response  \n",
       "3               A  Partial Match - Address match; Zip/Postal Code...  \n",
       "4               B  Partial Match - Address match; Zip/Postal Code...  "
      ]
     },
     "execution_count": 2,
     "metadata": {},
     "output_type": "execute_result"
    }
   ],
   "source": [
    "avs_df = pd.read_csv('data/DIM_AVS_RESPONSE.csv')\n",
    "avs_df.head()"
   ]
  },
  {
   "cell_type": "code",
   "execution_count": 3,
   "id": "21a94980",
   "metadata": {},
   "outputs": [
    {
     "data": {
      "text/plain": [
       "(25, 10)"
      ]
     },
     "execution_count": 3,
     "metadata": {},
     "output_type": "execute_result"
    }
   ],
   "source": [
    "avs_df.shape"
   ]
  },
  {
   "cell_type": "markdown",
   "id": "cc9eaa27",
   "metadata": {},
   "source": [
    "Let's see how many distinct AVS categories there are:"
   ]
  },
  {
   "cell_type": "code",
   "execution_count": 4,
   "id": "ff17f1be",
   "metadata": {},
   "outputs": [
    {
     "data": {
      "text/html": [
       "<div>\n",
       "<style scoped>\n",
       "    .dataframe tbody tr th:only-of-type {\n",
       "        vertical-align: middle;\n",
       "    }\n",
       "\n",
       "    .dataframe tbody tr th {\n",
       "        vertical-align: top;\n",
       "    }\n",
       "\n",
       "    .dataframe thead th {\n",
       "        text-align: right;\n",
       "    }\n",
       "</style>\n",
       "<table border=\"1\" class=\"dataframe\">\n",
       "  <thead>\n",
       "    <tr style=\"text-align: right;\">\n",
       "      <th></th>\n",
       "      <th>AVS_RESPONSE_ID</th>\n",
       "      <th>AVS_RESPONSE_DESC</th>\n",
       "    </tr>\n",
       "  </thead>\n",
       "  <tbody>\n",
       "    <tr>\n",
       "      <th>0</th>\n",
       "      <td>E</td>\n",
       "      <td>AVS service is not available for the particula...</td>\n",
       "    </tr>\n",
       "    <tr>\n",
       "      <th>1</th>\n",
       "      <td>-</td>\n",
       "      <td>AVS service is not available for the particula...</td>\n",
       "    </tr>\n",
       "    <tr>\n",
       "      <th>2</th>\n",
       "      <td>-1</td>\n",
       "      <td>Unknown AVS Response</td>\n",
       "    </tr>\n",
       "    <tr>\n",
       "      <th>3</th>\n",
       "      <td>A</td>\n",
       "      <td>Partial Match - Address match; Zip/Postal Code...</td>\n",
       "    </tr>\n",
       "    <tr>\n",
       "      <th>4</th>\n",
       "      <td>B</td>\n",
       "      <td>Partial Match - Address match; Zip/Postal Code...</td>\n",
       "    </tr>\n",
       "    <tr>\n",
       "      <th>5</th>\n",
       "      <td>Cod</td>\n",
       "      <td>No Match \u001a Address and Zip/Postal Code not ver...</td>\n",
       "    </tr>\n",
       "    <tr>\n",
       "      <th>6</th>\n",
       "      <td>D</td>\n",
       "      <td>Full Match - Address and Zip/Postal Code match</td>\n",
       "    </tr>\n",
       "    <tr>\n",
       "      <th>7</th>\n",
       "      <td>F</td>\n",
       "      <td>Full Match - Address and Zip/Postal Code match...</td>\n",
       "    </tr>\n",
       "    <tr>\n",
       "      <th>8</th>\n",
       "      <td>G</td>\n",
       "      <td>No Match - Address not verified</td>\n",
       "    </tr>\n",
       "    <tr>\n",
       "      <th>9</th>\n",
       "      <td>I</td>\n",
       "      <td>Address not verified</td>\n",
       "    </tr>\n",
       "    <tr>\n",
       "      <th>10</th>\n",
       "      <td>M</td>\n",
       "      <td>Full Match - Address and Zip/Postal Code match</td>\n",
       "    </tr>\n",
       "    <tr>\n",
       "      <th>11</th>\n",
       "      <td>N</td>\n",
       "      <td>No Match - Address and Zip/Postal Code do not ...</td>\n",
       "    </tr>\n",
       "    <tr>\n",
       "      <th>12</th>\n",
       "      <td>P</td>\n",
       "      <td>Partial Match - Zip/Postal Code matches; Addre...</td>\n",
       "    </tr>\n",
       "    <tr>\n",
       "      <th>13</th>\n",
       "      <td>R</td>\n",
       "      <td>Issuer system unavailable or timeout, Retry</td>\n",
       "    </tr>\n",
       "    <tr>\n",
       "      <th>14</th>\n",
       "      <td>S</td>\n",
       "      <td>AVS not supported by issuer</td>\n",
       "    </tr>\n",
       "    <tr>\n",
       "      <th>15</th>\n",
       "      <td>U</td>\n",
       "      <td>Address information unavailable</td>\n",
       "    </tr>\n",
       "    <tr>\n",
       "      <th>16</th>\n",
       "      <td>W</td>\n",
       "      <td>For US addresses: Partial Match - nine-digit Z...</td>\n",
       "    </tr>\n",
       "    <tr>\n",
       "      <th>17</th>\n",
       "      <td>X</td>\n",
       "      <td>For US addresses: Full Match - nine-digit Zip ...</td>\n",
       "    </tr>\n",
       "    <tr>\n",
       "      <th>18</th>\n",
       "      <td>Y</td>\n",
       "      <td>For US addresses: Full Match - five-digit Zip ...</td>\n",
       "    </tr>\n",
       "    <tr>\n",
       "      <th>19</th>\n",
       "      <td>Z</td>\n",
       "      <td>For US addresses: Partial Match five-digital Z...</td>\n",
       "    </tr>\n",
       "    <tr>\n",
       "      <th>20</th>\n",
       "      <td>C</td>\n",
       "      <td>No Match Address and Zip/Postal Code not verified</td>\n",
       "    </tr>\n",
       "    <tr>\n",
       "      <th>21</th>\n",
       "      <td>1</td>\n",
       "      <td>NaN</td>\n",
       "    </tr>\n",
       "    <tr>\n",
       "      <th>22</th>\n",
       "      <td>2</td>\n",
       "      <td>NaN</td>\n",
       "    </tr>\n",
       "    <tr>\n",
       "      <th>23</th>\n",
       "      <td>V</td>\n",
       "      <td>NaN</td>\n",
       "    </tr>\n",
       "    <tr>\n",
       "      <th>24</th>\n",
       "      <td>-1</td>\n",
       "      <td>Unknown AVS Response</td>\n",
       "    </tr>\n",
       "  </tbody>\n",
       "</table>\n",
       "</div>"
      ],
      "text/plain": [
       "   AVS_RESPONSE_ID                                  AVS_RESPONSE_DESC\n",
       "0                E  AVS service is not available for the particula...\n",
       "1                -  AVS service is not available for the particula...\n",
       "2               -1                               Unknown AVS Response\n",
       "3                A  Partial Match - Address match; Zip/Postal Code...\n",
       "4                B  Partial Match - Address match; Zip/Postal Code...\n",
       "5              Cod  No Match \u001a Address and Zip/Postal Code not ver...\n",
       "6                D     Full Match - Address and Zip/Postal Code match\n",
       "7                F  Full Match - Address and Zip/Postal Code match...\n",
       "8                G                    No Match - Address not verified\n",
       "9                I                               Address not verified\n",
       "10               M     Full Match - Address and Zip/Postal Code match\n",
       "11               N  No Match - Address and Zip/Postal Code do not ...\n",
       "12               P  Partial Match - Zip/Postal Code matches; Addre...\n",
       "13               R        Issuer system unavailable or timeout, Retry\n",
       "14               S                        AVS not supported by issuer\n",
       "15               U                    Address information unavailable\n",
       "16               W  For US addresses: Partial Match - nine-digit Z...\n",
       "17               X  For US addresses: Full Match - nine-digit Zip ...\n",
       "18               Y  For US addresses: Full Match - five-digit Zip ...\n",
       "19               Z  For US addresses: Partial Match five-digital Z...\n",
       "20               C  No Match Address and Zip/Postal Code not verified\n",
       "21               1                                                NaN\n",
       "22               2                                                NaN\n",
       "23               V                                                NaN\n",
       "24              -1                               Unknown AVS Response"
      ]
     },
     "execution_count": 4,
     "metadata": {},
     "output_type": "execute_result"
    }
   ],
   "source": [
    "avs_df[[\"AVS_RESPONSE_ID\", \"AVS_RESPONSE_DESC\"]]"
   ]
  },
  {
   "cell_type": "markdown",
   "id": "e4d59cfb",
   "metadata": {},
   "source": [
    "We see that the AVS_RESPONSE_DESC feature contains text, which we see can be translated into two categorical variables of importance: whether or not the address matches, and whether or not the zipcode matches. (To keep things simpler, we're treating partial matches as matches for the time being). In both cases, the answer can be yes (1), no (-1), or unknown (0). We examine each description one-by-one in order to translate the AVS_RESPONSE_ID into these new features, and drop the remaining, unnecessary columns: "
   ]
  },
  {
   "cell_type": "code",
   "execution_count": 5,
   "id": "491c7280",
   "metadata": {},
   "outputs": [
    {
     "data": {
      "text/html": [
       "<div>\n",
       "<style scoped>\n",
       "    .dataframe tbody tr th:only-of-type {\n",
       "        vertical-align: middle;\n",
       "    }\n",
       "\n",
       "    .dataframe tbody tr th {\n",
       "        vertical-align: top;\n",
       "    }\n",
       "\n",
       "    .dataframe thead th {\n",
       "        text-align: right;\n",
       "    }\n",
       "</style>\n",
       "<table border=\"1\" class=\"dataframe\">\n",
       "  <thead>\n",
       "    <tr style=\"text-align: right;\">\n",
       "      <th></th>\n",
       "      <th>AVS_RESPONSE_KEY</th>\n",
       "      <th>AVS_RESPONSE_ID</th>\n",
       "      <th>AVS_RESPONSE_DESC</th>\n",
       "      <th>AVS_ADDRESS_MATCH</th>\n",
       "      <th>AVS_ZIP_YES_MATCH</th>\n",
       "      <th>AVS_ZIP_NO_MATCH</th>\n",
       "    </tr>\n",
       "  </thead>\n",
       "  <tbody>\n",
       "    <tr>\n",
       "      <th>0</th>\n",
       "      <td>21</td>\n",
       "      <td>E</td>\n",
       "      <td>AVS service is not available for the particula...</td>\n",
       "      <td>0</td>\n",
       "      <td>0</td>\n",
       "      <td>0</td>\n",
       "    </tr>\n",
       "    <tr>\n",
       "      <th>1</th>\n",
       "      <td>22</td>\n",
       "      <td>-</td>\n",
       "      <td>AVS service is not available for the particula...</td>\n",
       "      <td>0</td>\n",
       "      <td>0</td>\n",
       "      <td>0</td>\n",
       "    </tr>\n",
       "    <tr>\n",
       "      <th>2</th>\n",
       "      <td>-99</td>\n",
       "      <td>-1</td>\n",
       "      <td>Unknown AVS Response</td>\n",
       "      <td>0</td>\n",
       "      <td>0</td>\n",
       "      <td>0</td>\n",
       "    </tr>\n",
       "    <tr>\n",
       "      <th>3</th>\n",
       "      <td>155</td>\n",
       "      <td>A</td>\n",
       "      <td>Partial Match - Address match; Zip/Postal Code...</td>\n",
       "      <td>1</td>\n",
       "      <td>0</td>\n",
       "      <td>1</td>\n",
       "    </tr>\n",
       "    <tr>\n",
       "      <th>4</th>\n",
       "      <td>156</td>\n",
       "      <td>B</td>\n",
       "      <td>Partial Match - Address match; Zip/Postal Code...</td>\n",
       "      <td>1</td>\n",
       "      <td>0</td>\n",
       "      <td>0</td>\n",
       "    </tr>\n",
       "  </tbody>\n",
       "</table>\n",
       "</div>"
      ],
      "text/plain": [
       "   AVS_RESPONSE_KEY AVS_RESPONSE_ID  \\\n",
       "0                21               E   \n",
       "1                22               -   \n",
       "2               -99              -1   \n",
       "3               155               A   \n",
       "4               156               B   \n",
       "\n",
       "                                   AVS_RESPONSE_DESC  AVS_ADDRESS_MATCH  \\\n",
       "0  AVS service is not available for the particula...                  0   \n",
       "1  AVS service is not available for the particula...                  0   \n",
       "2                               Unknown AVS Response                  0   \n",
       "3  Partial Match - Address match; Zip/Postal Code...                  1   \n",
       "4  Partial Match - Address match; Zip/Postal Code...                  1   \n",
       "\n",
       "   AVS_ZIP_YES_MATCH  AVS_ZIP_NO_MATCH  \n",
       "0                  0                 0  \n",
       "1                  0                 0  \n",
       "2                  0                 0  \n",
       "3                  0                 1  \n",
       "4                  0                 0  "
      ]
     },
     "execution_count": 5,
     "metadata": {},
     "output_type": "execute_result"
    }
   ],
   "source": [
    "avs_df['AVS_ADDRESS_MATCH'] = avs_df.AVS_RESPONSE_ID.apply(lambda x: 1 if x in [\"D\", \"F\", \"X\", \"Y\", \"M\", \"A\", \"B\"] \n",
    "                                                          else (-1 if x in [\"P\", \"W\", \"Z\", \"N\", \"Cod\", \"C\"] else 0))\n",
    "# TODO: split this?\n",
    "avs_df['AVS_ZIP_YES_MATCH'] = avs_df.AVS_RESPONSE_ID.apply(lambda x: 1 if x in [\"D\", \"F\", \"X\", \"Y\", \"M\", \"P\", \"W\", \"Z\"] else 0)\n",
    "avs_df['AVS_ZIP_NO_MATCH'] = avs_df.AVS_RESPONSE_ID.apply(lambda x: 1 if x in [\"A\", \"N\"] else 0)\n",
    "\n",
    "avs_df.drop([\"ETL_RUN_DATE\", \"ETL_CREATION_DATE\",\"ETL_UPDATE_DATE\", \"ETL_LOAD_NO\", \"ETL_PROCESS_NAME\", \"ETL_SOURCE\", \"SOURCE_SYSTEM_KEY\"],\n",
    "            inplace=True, axis=1) # Database variables, can be removed in all tables.\n",
    "\n",
    "avs_df.head()"
   ]
  },
  {
   "cell_type": "markdown",
   "id": "ac213816",
   "metadata": {},
   "source": [
    "These new categorical features are suitable for classification models, and we'll be making use of them later. Onwards to the CVV security check: "
   ]
  },
  {
   "cell_type": "markdown",
   "id": "558d5f57",
   "metadata": {},
   "source": [
    "### CVV response analysis"
   ]
  },
  {
   "cell_type": "markdown",
   "id": "1b6fd421",
   "metadata": {},
   "source": [
    "The CVV Number (\"Card Verification Value\") should be more familiar to you: it's the 3/4 digit number on your credit card or debit card which proves that you actually have the physical credit or debit card - and helps to keep you safe while reducing fraud. Let's look into the CVV data:"
   ]
  },
  {
   "cell_type": "code",
   "execution_count": 6,
   "id": "ae7eca6e",
   "metadata": {},
   "outputs": [
    {
     "data": {
      "text/html": [
       "<div>\n",
       "<style scoped>\n",
       "    .dataframe tbody tr th:only-of-type {\n",
       "        vertical-align: middle;\n",
       "    }\n",
       "\n",
       "    .dataframe tbody tr th {\n",
       "        vertical-align: top;\n",
       "    }\n",
       "\n",
       "    .dataframe thead th {\n",
       "        text-align: right;\n",
       "    }\n",
       "</style>\n",
       "<table border=\"1\" class=\"dataframe\">\n",
       "  <thead>\n",
       "    <tr style=\"text-align: right;\">\n",
       "      <th></th>\n",
       "      <th>CVV_RESPONSE_KEY</th>\n",
       "      <th>CVV_RESPONSE_ID</th>\n",
       "      <th>CVV_RESPONSE_DESC</th>\n",
       "    </tr>\n",
       "  </thead>\n",
       "  <tbody>\n",
       "    <tr>\n",
       "      <th>0</th>\n",
       "      <td>-99</td>\n",
       "      <td>-1</td>\n",
       "      <td>Unknown CVV Response</td>\n",
       "    </tr>\n",
       "    <tr>\n",
       "      <th>1</th>\n",
       "      <td>119</td>\n",
       "      <td>M</td>\n",
       "      <td>CVV2/CVC2 Match</td>\n",
       "    </tr>\n",
       "    <tr>\n",
       "      <th>2</th>\n",
       "      <td>120</td>\n",
       "      <td>N</td>\n",
       "      <td>CVV2/CVC2 No Match</td>\n",
       "    </tr>\n",
       "    <tr>\n",
       "      <th>3</th>\n",
       "      <td>121</td>\n",
       "      <td>P</td>\n",
       "      <td>Not processed</td>\n",
       "    </tr>\n",
       "    <tr>\n",
       "      <th>4</th>\n",
       "      <td>122</td>\n",
       "      <td>S</td>\n",
       "      <td>The CVV2 should be on the card but the merchan...</td>\n",
       "    </tr>\n",
       "    <tr>\n",
       "      <th>5</th>\n",
       "      <td>123</td>\n",
       "      <td>U</td>\n",
       "      <td>CVV2/CVC2 Unavailable issuer does not support</td>\n",
       "    </tr>\n",
       "    <tr>\n",
       "      <th>6</th>\n",
       "      <td>124</td>\n",
       "      <td>Y</td>\n",
       "      <td>CVC1 Incorrect</td>\n",
       "    </tr>\n",
       "    <tr>\n",
       "      <th>7</th>\n",
       "      <td>-98</td>\n",
       "      <td>-1</td>\n",
       "      <td>Unknown CVV Response</td>\n",
       "    </tr>\n",
       "  </tbody>\n",
       "</table>\n",
       "</div>"
      ],
      "text/plain": [
       "   CVV_RESPONSE_KEY CVV_RESPONSE_ID  \\\n",
       "0               -99              -1   \n",
       "1               119               M   \n",
       "2               120               N   \n",
       "3               121               P   \n",
       "4               122               S   \n",
       "5               123               U   \n",
       "6               124               Y   \n",
       "7               -98              -1   \n",
       "\n",
       "                                   CVV_RESPONSE_DESC  \n",
       "0                               Unknown CVV Response  \n",
       "1                                    CVV2/CVC2 Match  \n",
       "2                                 CVV2/CVC2 No Match  \n",
       "3                                      Not processed  \n",
       "4  The CVV2 should be on the card but the merchan...  \n",
       "5      CVV2/CVC2 Unavailable issuer does not support  \n",
       "6                                     CVC1 Incorrect  \n",
       "7                               Unknown CVV Response  "
      ]
     },
     "execution_count": 6,
     "metadata": {},
     "output_type": "execute_result"
    }
   ],
   "source": [
    "cvv_df = pd.read_csv('data/DIM_CVV_RESPONSE.csv')\n",
    "cvv_df.drop([\"ETL_RUN_DATE\", \"ETL_CREATION_DATE\",\"ETL_UPDATE_DATE\", \"ETL_LOAD_NO\", \"ETL_PROCESS_NAME\", \"ETL_SOURCE\",\n",
    "             \"SOURCE_SYSTEM_KEY\"], inplace=True, axis=1) # Database variables, can be removed in all tables.\n",
    "cvv_df"
   ]
  },
  {
   "cell_type": "markdown",
   "id": "96d2bf79",
   "metadata": {},
   "source": [
    "Here too we're required to convert the description into features we can work with: CVV_YES_MATCH to indicate that the CVV matches <<>> (which may strongly indicate that the transaction is legitimate) and CVV_NO_MATCH if the reverse is true."
   ]
  },
  {
   "cell_type": "code",
   "execution_count": 7,
   "id": "37ecd79b",
   "metadata": {},
   "outputs": [
    {
     "data": {
      "text/html": [
       "<div>\n",
       "<style scoped>\n",
       "    .dataframe tbody tr th:only-of-type {\n",
       "        vertical-align: middle;\n",
       "    }\n",
       "\n",
       "    .dataframe tbody tr th {\n",
       "        vertical-align: top;\n",
       "    }\n",
       "\n",
       "    .dataframe thead th {\n",
       "        text-align: right;\n",
       "    }\n",
       "</style>\n",
       "<table border=\"1\" class=\"dataframe\">\n",
       "  <thead>\n",
       "    <tr style=\"text-align: right;\">\n",
       "      <th></th>\n",
       "      <th>CVV_RESPONSE_KEY</th>\n",
       "      <th>CVV_RESPONSE_ID</th>\n",
       "      <th>CVV_RESPONSE_DESC</th>\n",
       "      <th>CVV_YES_MATCH</th>\n",
       "      <th>CVV_NO_MATCH</th>\n",
       "    </tr>\n",
       "  </thead>\n",
       "  <tbody>\n",
       "    <tr>\n",
       "      <th>0</th>\n",
       "      <td>-99</td>\n",
       "      <td>-1</td>\n",
       "      <td>Unknown CVV Response</td>\n",
       "      <td>0</td>\n",
       "      <td>0</td>\n",
       "    </tr>\n",
       "    <tr>\n",
       "      <th>1</th>\n",
       "      <td>119</td>\n",
       "      <td>M</td>\n",
       "      <td>CVV2/CVC2 Match</td>\n",
       "      <td>1</td>\n",
       "      <td>0</td>\n",
       "    </tr>\n",
       "    <tr>\n",
       "      <th>2</th>\n",
       "      <td>120</td>\n",
       "      <td>N</td>\n",
       "      <td>CVV2/CVC2 No Match</td>\n",
       "      <td>0</td>\n",
       "      <td>1</td>\n",
       "    </tr>\n",
       "    <tr>\n",
       "      <th>3</th>\n",
       "      <td>121</td>\n",
       "      <td>P</td>\n",
       "      <td>Not processed</td>\n",
       "      <td>0</td>\n",
       "      <td>0</td>\n",
       "    </tr>\n",
       "    <tr>\n",
       "      <th>4</th>\n",
       "      <td>122</td>\n",
       "      <td>S</td>\n",
       "      <td>The CVV2 should be on the card but the merchan...</td>\n",
       "      <td>0</td>\n",
       "      <td>0</td>\n",
       "    </tr>\n",
       "    <tr>\n",
       "      <th>5</th>\n",
       "      <td>123</td>\n",
       "      <td>U</td>\n",
       "      <td>CVV2/CVC2 Unavailable issuer does not support</td>\n",
       "      <td>0</td>\n",
       "      <td>0</td>\n",
       "    </tr>\n",
       "    <tr>\n",
       "      <th>6</th>\n",
       "      <td>124</td>\n",
       "      <td>Y</td>\n",
       "      <td>CVC1 Incorrect</td>\n",
       "      <td>0</td>\n",
       "      <td>1</td>\n",
       "    </tr>\n",
       "    <tr>\n",
       "      <th>7</th>\n",
       "      <td>-98</td>\n",
       "      <td>-1</td>\n",
       "      <td>Unknown CVV Response</td>\n",
       "      <td>0</td>\n",
       "      <td>0</td>\n",
       "    </tr>\n",
       "  </tbody>\n",
       "</table>\n",
       "</div>"
      ],
      "text/plain": [
       "   CVV_RESPONSE_KEY CVV_RESPONSE_ID  \\\n",
       "0               -99              -1   \n",
       "1               119               M   \n",
       "2               120               N   \n",
       "3               121               P   \n",
       "4               122               S   \n",
       "5               123               U   \n",
       "6               124               Y   \n",
       "7               -98              -1   \n",
       "\n",
       "                                   CVV_RESPONSE_DESC  CVV_YES_MATCH  \\\n",
       "0                               Unknown CVV Response              0   \n",
       "1                                    CVV2/CVC2 Match              1   \n",
       "2                                 CVV2/CVC2 No Match              0   \n",
       "3                                      Not processed              0   \n",
       "4  The CVV2 should be on the card but the merchan...              0   \n",
       "5      CVV2/CVC2 Unavailable issuer does not support              0   \n",
       "6                                     CVC1 Incorrect              0   \n",
       "7                               Unknown CVV Response              0   \n",
       "\n",
       "   CVV_NO_MATCH  \n",
       "0             0  \n",
       "1             0  \n",
       "2             1  \n",
       "3             0  \n",
       "4             0  \n",
       "5             0  \n",
       "6             1  \n",
       "7             0  "
      ]
     },
     "execution_count": 7,
     "metadata": {},
     "output_type": "execute_result"
    }
   ],
   "source": [
    "cvv_df['CVV_YES_MATCH'] = cvv_df.CVV_RESPONSE_ID.apply(lambda x: 1 if x == \"M\" else 0)\n",
    "cvv_df['CVV_NO_MATCH'] = cvv_df.CVV_RESPONSE_ID.apply(lambda x: 1 if x in [\"Y\", \"N\"] else 0)\n",
    "cvv_df"
   ]
  },
  {
   "cell_type": "markdown",
   "id": "c7664c38",
   "metadata": {},
   "source": [
    "### Merchant Information (MCC)"
   ]
  },
  {
   "cell_type": "markdown",
   "id": "7f3f7d2e",
   "metadata": {},
   "source": [
    "We usually think of chargeback as a problem in which merchants are the victim of unreliable (or malicious) customers. However, when you're a company whose profitability depends on making sure as many good transactions are going through and the bad ones are blocked in advnaced, it might be far more beneficial to put your focus on the stores themselves: perhaps the merchant is untrustworthy and there are many cases of legitimate sale cancellations (we don't want to work with those types), or alternatively the business sector might be one which is a hotbed for fraud and returns (online retail or gift cards, perhaps?).\n",
    "\n",
    "Let's take a look at the data the company provides regarding the merchants who've accepted the credit cards in their store:"
   ]
  },
  {
   "cell_type": "code",
   "execution_count": 8,
   "id": "60b81b7f",
   "metadata": {},
   "outputs": [
    {
     "data": {
      "text/html": [
       "<div>\n",
       "<style scoped>\n",
       "    .dataframe tbody tr th:only-of-type {\n",
       "        vertical-align: middle;\n",
       "    }\n",
       "\n",
       "    .dataframe tbody tr th {\n",
       "        vertical-align: top;\n",
       "    }\n",
       "\n",
       "    .dataframe thead th {\n",
       "        text-align: right;\n",
       "    }\n",
       "</style>\n",
       "<table border=\"1\" class=\"dataframe\">\n",
       "  <thead>\n",
       "    <tr style=\"text-align: right;\">\n",
       "      <th></th>\n",
       "      <th>MCC_KEY</th>\n",
       "      <th>ETL_RUN_DATE</th>\n",
       "      <th>ETL_CREATION_DATE</th>\n",
       "      <th>ETL_UPDATE_DATE</th>\n",
       "      <th>ETL_LOAD_NO</th>\n",
       "      <th>ETL_PROCESS_NAME</th>\n",
       "      <th>ETL_SOURCE</th>\n",
       "      <th>ETL_SOURCE_PRIORITY</th>\n",
       "      <th>SOURCE_SYSTEM_KEY</th>\n",
       "      <th>MCC_ID</th>\n",
       "      <th>MCC_DESC</th>\n",
       "      <th>IS_VISA_HIGH_RISK</th>\n",
       "      <th>IS_MC_HIGH_RISK</th>\n",
       "      <th>MCC_GROUP</th>\n",
       "    </tr>\n",
       "  </thead>\n",
       "  <tbody>\n",
       "    <tr>\n",
       "      <th>0</th>\n",
       "      <td>369</td>\n",
       "      <td>2015-07-26</td>\n",
       "      <td>2015-07-27</td>\n",
       "      <td>2018-12-17</td>\n",
       "      <td>659.0</td>\n",
       "      <td>m_stg_dim_mcc</td>\n",
       "      <td>GLOBAL</td>\n",
       "      <td>1</td>\n",
       "      <td>8</td>\n",
       "      <td>7395</td>\n",
       "      <td>Photo Finishing Laboratories and Photo Developing</td>\n",
       "      <td>0</td>\n",
       "      <td>0</td>\n",
       "      <td>Business &amp; Professional Services</td>\n",
       "    </tr>\n",
       "    <tr>\n",
       "      <th>1</th>\n",
       "      <td>371</td>\n",
       "      <td>2015-07-26</td>\n",
       "      <td>2015-07-27</td>\n",
       "      <td>2018-12-17</td>\n",
       "      <td>659.0</td>\n",
       "      <td>m_stg_dim_mcc</td>\n",
       "      <td>GLOBAL</td>\n",
       "      <td>1</td>\n",
       "      <td>8</td>\n",
       "      <td>7512</td>\n",
       "      <td>Automobile Rental Agency</td>\n",
       "      <td>0</td>\n",
       "      <td>0</td>\n",
       "      <td>Vehicle Hire</td>\n",
       "    </tr>\n",
       "    <tr>\n",
       "      <th>2</th>\n",
       "      <td>372</td>\n",
       "      <td>2015-07-26</td>\n",
       "      <td>2015-07-27</td>\n",
       "      <td>2018-12-17</td>\n",
       "      <td>659.0</td>\n",
       "      <td>m_stg_dim_mcc</td>\n",
       "      <td>GLOBAL</td>\n",
       "      <td>1</td>\n",
       "      <td>8</td>\n",
       "      <td>7519</td>\n",
       "      <td>Motor Home and Recreational Vehicle Rentals</td>\n",
       "      <td>0</td>\n",
       "      <td>0</td>\n",
       "      <td>Vehicle Hire</td>\n",
       "    </tr>\n",
       "    <tr>\n",
       "      <th>3</th>\n",
       "      <td>373</td>\n",
       "      <td>2015-07-26</td>\n",
       "      <td>2015-07-27</td>\n",
       "      <td>2018-12-17</td>\n",
       "      <td>659.0</td>\n",
       "      <td>m_stg_dim_mcc</td>\n",
       "      <td>GLOBAL</td>\n",
       "      <td>1</td>\n",
       "      <td>8</td>\n",
       "      <td>7523</td>\n",
       "      <td>Parking Lots and Garages</td>\n",
       "      <td>0</td>\n",
       "      <td>0</td>\n",
       "      <td>Motoring</td>\n",
       "    </tr>\n",
       "    <tr>\n",
       "      <th>4</th>\n",
       "      <td>293</td>\n",
       "      <td>2015-07-26</td>\n",
       "      <td>2015-07-27</td>\n",
       "      <td>2018-12-17</td>\n",
       "      <td>659.0</td>\n",
       "      <td>m_stg_dim_mcc</td>\n",
       "      <td>GLOBAL</td>\n",
       "      <td>1</td>\n",
       "      <td>8</td>\n",
       "      <td>5722</td>\n",
       "      <td>Household Appliance Stores</td>\n",
       "      <td>0</td>\n",
       "      <td>0</td>\n",
       "      <td>Wholesale</td>\n",
       "    </tr>\n",
       "  </tbody>\n",
       "</table>\n",
       "</div>"
      ],
      "text/plain": [
       "   MCC_KEY ETL_RUN_DATE ETL_CREATION_DATE ETL_UPDATE_DATE  ETL_LOAD_NO  \\\n",
       "0      369   2015-07-26        2015-07-27      2018-12-17        659.0   \n",
       "1      371   2015-07-26        2015-07-27      2018-12-17        659.0   \n",
       "2      372   2015-07-26        2015-07-27      2018-12-17        659.0   \n",
       "3      373   2015-07-26        2015-07-27      2018-12-17        659.0   \n",
       "4      293   2015-07-26        2015-07-27      2018-12-17        659.0   \n",
       "\n",
       "  ETL_PROCESS_NAME ETL_SOURCE  ETL_SOURCE_PRIORITY  SOURCE_SYSTEM_KEY  MCC_ID  \\\n",
       "0    m_stg_dim_mcc     GLOBAL                    1                  8    7395   \n",
       "1    m_stg_dim_mcc     GLOBAL                    1                  8    7512   \n",
       "2    m_stg_dim_mcc     GLOBAL                    1                  8    7519   \n",
       "3    m_stg_dim_mcc     GLOBAL                    1                  8    7523   \n",
       "4    m_stg_dim_mcc     GLOBAL                    1                  8    5722   \n",
       "\n",
       "                                            MCC_DESC  IS_VISA_HIGH_RISK  \\\n",
       "0  Photo Finishing Laboratories and Photo Developing                  0   \n",
       "1                           Automobile Rental Agency                  0   \n",
       "2        Motor Home and Recreational Vehicle Rentals                  0   \n",
       "3                           Parking Lots and Garages                  0   \n",
       "4                         Household Appliance Stores                  0   \n",
       "\n",
       "   IS_MC_HIGH_RISK                         MCC_GROUP  \n",
       "0                0  Business & Professional Services  \n",
       "1                0                      Vehicle Hire  \n",
       "2                0                      Vehicle Hire  \n",
       "3                0                          Motoring  \n",
       "4                0                         Wholesale  "
      ]
     },
     "execution_count": 8,
     "metadata": {},
     "output_type": "execute_result"
    }
   ],
   "source": [
    "mcc_df = pd.read_csv('data/DIM_MCC.csv')\n",
    "mcc_df.head()"
   ]
  },
  {
   "cell_type": "code",
   "execution_count": 9,
   "id": "715a447e",
   "metadata": {},
   "outputs": [
    {
     "data": {
      "text/plain": [
       "(1353, 14)"
      ]
     },
     "execution_count": 9,
     "metadata": {},
     "output_type": "execute_result"
    }
   ],
   "source": [
    "mcc_df.shape"
   ]
  },
  {
   "cell_type": "markdown",
   "id": "cd55e078",
   "metadata": {},
   "source": [
    "Aside from the IS_MC_HIGH_RISK and IS_MC_HIGH_RISK features which are likely to be useful, we note two categorical variables: MCC_GROUP which denotes the general category of service the merchant provides, and MCC_DESC which goes into further detail. Since these categorical features must be one-hot encoded later, let's see how many unique values there are for each feature:"
   ]
  },
  {
   "cell_type": "code",
   "execution_count": 10,
   "id": "299e8586",
   "metadata": {},
   "outputs": [
    {
     "data": {
      "text/plain": [
       "26"
      ]
     },
     "execution_count": 10,
     "metadata": {},
     "output_type": "execute_result"
    }
   ],
   "source": [
    "mcc_df['MCC_GROUP'].nunique()"
   ]
  },
  {
   "cell_type": "code",
   "execution_count": 11,
   "id": "935bac72",
   "metadata": {},
   "outputs": [
    {
     "data": {
      "text/plain": [
       "927"
      ]
     },
     "execution_count": 11,
     "metadata": {},
     "output_type": "execute_result"
    }
   ],
   "source": [
    "mcc_df['MCC_DESC'].nunique()"
   ]
  },
  {
   "cell_type": "markdown",
   "id": "49c3dddd",
   "metadata": {},
   "source": [
    "While the detailed Merchant Description category might be helpful (e.g. within the Entertainment sector, a business focusing on gambling might have a higher risk than a movie theater), the sheer quantity of subgroups would require lots of computational time and increase the risk for overfitting. We'll keep things simple for now and leave this feature out, while keeping the MCC_GROUP feature; we can always re-examine this assumption later.\n",
    "\n",
    "After identifying the features of interest, the remaining features (which mainly relate to when the merchant info has been added to the database) can be removed."
   ]
  },
  {
   "cell_type": "code",
   "execution_count": 12,
   "id": "a6560c02",
   "metadata": {},
   "outputs": [
    {
     "data": {
      "text/html": [
       "<div>\n",
       "<style scoped>\n",
       "    .dataframe tbody tr th:only-of-type {\n",
       "        vertical-align: middle;\n",
       "    }\n",
       "\n",
       "    .dataframe tbody tr th {\n",
       "        vertical-align: top;\n",
       "    }\n",
       "\n",
       "    .dataframe thead th {\n",
       "        text-align: right;\n",
       "    }\n",
       "</style>\n",
       "<table border=\"1\" class=\"dataframe\">\n",
       "  <thead>\n",
       "    <tr style=\"text-align: right;\">\n",
       "      <th></th>\n",
       "      <th>MCC_KEY</th>\n",
       "      <th>MCC_ID</th>\n",
       "      <th>IS_VISA_HIGH_RISK</th>\n",
       "      <th>IS_MC_HIGH_RISK</th>\n",
       "      <th>MCC_GROUP</th>\n",
       "    </tr>\n",
       "  </thead>\n",
       "  <tbody>\n",
       "    <tr>\n",
       "      <th>0</th>\n",
       "      <td>369</td>\n",
       "      <td>7395</td>\n",
       "      <td>0</td>\n",
       "      <td>0</td>\n",
       "      <td>Business &amp; Professional Services</td>\n",
       "    </tr>\n",
       "    <tr>\n",
       "      <th>1</th>\n",
       "      <td>371</td>\n",
       "      <td>7512</td>\n",
       "      <td>0</td>\n",
       "      <td>0</td>\n",
       "      <td>Vehicle Hire</td>\n",
       "    </tr>\n",
       "    <tr>\n",
       "      <th>2</th>\n",
       "      <td>372</td>\n",
       "      <td>7519</td>\n",
       "      <td>0</td>\n",
       "      <td>0</td>\n",
       "      <td>Vehicle Hire</td>\n",
       "    </tr>\n",
       "    <tr>\n",
       "      <th>3</th>\n",
       "      <td>373</td>\n",
       "      <td>7523</td>\n",
       "      <td>0</td>\n",
       "      <td>0</td>\n",
       "      <td>Motoring</td>\n",
       "    </tr>\n",
       "    <tr>\n",
       "      <th>4</th>\n",
       "      <td>293</td>\n",
       "      <td>5722</td>\n",
       "      <td>0</td>\n",
       "      <td>0</td>\n",
       "      <td>Wholesale</td>\n",
       "    </tr>\n",
       "    <tr>\n",
       "      <th>...</th>\n",
       "      <td>...</td>\n",
       "      <td>...</td>\n",
       "      <td>...</td>\n",
       "      <td>...</td>\n",
       "      <td>...</td>\n",
       "    </tr>\n",
       "    <tr>\n",
       "      <th>1348</th>\n",
       "      <td>3007</td>\n",
       "      <td>7280</td>\n",
       "      <td>0</td>\n",
       "      <td>0</td>\n",
       "      <td>Unknown MCC Group</td>\n",
       "    </tr>\n",
       "    <tr>\n",
       "      <th>1349</th>\n",
       "      <td>3008</td>\n",
       "      <td>7295</td>\n",
       "      <td>0</td>\n",
       "      <td>0</td>\n",
       "      <td>Unknown MCC Group</td>\n",
       "    </tr>\n",
       "    <tr>\n",
       "      <th>1350</th>\n",
       "      <td>3009</td>\n",
       "      <td>8912</td>\n",
       "      <td>0</td>\n",
       "      <td>0</td>\n",
       "      <td>Unknown MCC Group</td>\n",
       "    </tr>\n",
       "    <tr>\n",
       "      <th>1351</th>\n",
       "      <td>3010</td>\n",
       "      <td>9400</td>\n",
       "      <td>0</td>\n",
       "      <td>0</td>\n",
       "      <td>Unknown MCC Group</td>\n",
       "    </tr>\n",
       "    <tr>\n",
       "      <th>1352</th>\n",
       "      <td>-98</td>\n",
       "      <td>-1</td>\n",
       "      <td>0</td>\n",
       "      <td>0</td>\n",
       "      <td>NaN</td>\n",
       "    </tr>\n",
       "  </tbody>\n",
       "</table>\n",
       "<p>1353 rows × 5 columns</p>\n",
       "</div>"
      ],
      "text/plain": [
       "      MCC_KEY  MCC_ID  IS_VISA_HIGH_RISK  IS_MC_HIGH_RISK  \\\n",
       "0         369    7395                  0                0   \n",
       "1         371    7512                  0                0   \n",
       "2         372    7519                  0                0   \n",
       "3         373    7523                  0                0   \n",
       "4         293    5722                  0                0   \n",
       "...       ...     ...                ...              ...   \n",
       "1348     3007    7280                  0                0   \n",
       "1349     3008    7295                  0                0   \n",
       "1350     3009    8912                  0                0   \n",
       "1351     3010    9400                  0                0   \n",
       "1352      -98      -1                  0                0   \n",
       "\n",
       "                             MCC_GROUP  \n",
       "0     Business & Professional Services  \n",
       "1                         Vehicle Hire  \n",
       "2                         Vehicle Hire  \n",
       "3                             Motoring  \n",
       "4                            Wholesale  \n",
       "...                                ...  \n",
       "1348                 Unknown MCC Group  \n",
       "1349                 Unknown MCC Group  \n",
       "1350                 Unknown MCC Group  \n",
       "1351                 Unknown MCC Group  \n",
       "1352                               NaN  \n",
       "\n",
       "[1353 rows x 5 columns]"
      ]
     },
     "execution_count": 12,
     "metadata": {},
     "output_type": "execute_result"
    }
   ],
   "source": [
    "mcc_df.drop([\"ETL_RUN_DATE\", \"ETL_CREATION_DATE\",\"ETL_UPDATE_DATE\", \"ETL_LOAD_NO\", \"ETL_PROCESS_NAME\", \"ETL_SOURCE\",\n",
    "            \"ETL_SOURCE_PRIORITY\", \"SOURCE_SYSTEM_KEY\"], inplace=True, axis=1) # Database variables\n",
    "\n",
    "mcc_df.drop(\"MCC_DESC\", inplace=True, axis=1)\n",
    "mcc_df"
   ]
  },
  {
   "cell_type": "markdown",
   "id": "78bdbf44",
   "metadata": {},
   "source": [
    "A quick check tells us that there are 6 high-risk Visa categories and 11 high-risk MC categories, we'll see later if those are a strong chargeback indicator."
   ]
  },
  {
   "cell_type": "code",
   "execution_count": 13,
   "id": "8a35fa0b",
   "metadata": {},
   "outputs": [
    {
     "data": {
      "text/plain": [
       "IS_VISA_HIGH_RISK     6\n",
       "IS_MC_HIGH_RISK      11\n",
       "dtype: int64"
      ]
     },
     "execution_count": 13,
     "metadata": {},
     "output_type": "execute_result"
    }
   ],
   "source": [
    "mcc_df[[\"IS_VISA_HIGH_RISK\", \"IS_MC_HIGH_RISK\"]].sum(axis=0)"
   ]
  },
  {
   "cell_type": "markdown",
   "id": "8c27a6fc",
   "metadata": {},
   "source": [
    "### Regions"
   ]
  },
  {
   "cell_type": "markdown",
   "id": "0e145437",
   "metadata": {},
   "source": [
    "Regional data can also be extremely important in preemptive chargeback identification. Some third-world countries have a negative reputation in manners relating to fraud, and international trade may exhibit different behavior than local sales. \n",
    "\n",
    "Let's look at the data:"
   ]
  },
  {
   "cell_type": "code",
   "execution_count": 14,
   "id": "a5fe7052",
   "metadata": {},
   "outputs": [
    {
     "data": {
      "text/html": [
       "<div>\n",
       "<style scoped>\n",
       "    .dataframe tbody tr th:only-of-type {\n",
       "        vertical-align: middle;\n",
       "    }\n",
       "\n",
       "    .dataframe tbody tr th {\n",
       "        vertical-align: top;\n",
       "    }\n",
       "\n",
       "    .dataframe thead th {\n",
       "        text-align: right;\n",
       "    }\n",
       "</style>\n",
       "<table border=\"1\" class=\"dataframe\">\n",
       "  <thead>\n",
       "    <tr style=\"text-align: right;\">\n",
       "      <th></th>\n",
       "      <th>TRX_REGION_KEY</th>\n",
       "      <th>ETL_RUN_DATE</th>\n",
       "      <th>ETL_CREATION_DATE</th>\n",
       "      <th>ETL_UPDATE_DATE</th>\n",
       "      <th>ETL_LOAD_NO</th>\n",
       "      <th>ETL_PROCESS_NAME</th>\n",
       "      <th>ETL_SOURCE</th>\n",
       "      <th>SOURCE_SYSTEM_KEY</th>\n",
       "      <th>EFFECTIVE_START_DATE</th>\n",
       "      <th>EFFECTIVE_END_DATE</th>\n",
       "      <th>...</th>\n",
       "      <th>BIN_COUNTRY_DESC</th>\n",
       "      <th>MERCHANT_COUNTRY_ALPHA_3_ID</th>\n",
       "      <th>MERCHANT_COUNTRY_ALPHA_2_ID</th>\n",
       "      <th>MERCHANT_COUNTRY_NUMERIC_ID</th>\n",
       "      <th>MERCHANT_COUNTRY_DESC</th>\n",
       "      <th>CARD_SCHEME_ID</th>\n",
       "      <th>CARD_SCHEME_TRX_REGION</th>\n",
       "      <th>CRX_TRX_REGION</th>\n",
       "      <th>MD5_KEY</th>\n",
       "      <th>ETL_SOURCE_PRIORITY</th>\n",
       "    </tr>\n",
       "  </thead>\n",
       "  <tbody>\n",
       "    <tr>\n",
       "      <th>0</th>\n",
       "      <td>2833386</td>\n",
       "      <td>2017-04-01</td>\n",
       "      <td>2017-07-27</td>\n",
       "      <td>2017-07-27</td>\n",
       "      <td>51.0</td>\n",
       "      <td>m_stg_dim_trx_region</td>\n",
       "      <td>GLOBAL</td>\n",
       "      <td>7.0</td>\n",
       "      <td>2017-04-01</td>\n",
       "      <td>2999-12-31</td>\n",
       "      <td>...</td>\n",
       "      <td>Cyprus</td>\n",
       "      <td>RUS</td>\n",
       "      <td>RU</td>\n",
       "      <td>643</td>\n",
       "      <td>Russian Federation</td>\n",
       "      <td>Visa</td>\n",
       "      <td>Interregional</td>\n",
       "      <td>Inter</td>\n",
       "      <td>456219565EDF917386F5EABFBEE9D09C</td>\n",
       "      <td>NaN</td>\n",
       "    </tr>\n",
       "    <tr>\n",
       "      <th>1</th>\n",
       "      <td>2833387</td>\n",
       "      <td>2017-04-01</td>\n",
       "      <td>2017-07-27</td>\n",
       "      <td>2017-07-27</td>\n",
       "      <td>51.0</td>\n",
       "      <td>m_stg_dim_trx_region</td>\n",
       "      <td>GLOBAL</td>\n",
       "      <td>7.0</td>\n",
       "      <td>2017-04-01</td>\n",
       "      <td>2999-12-31</td>\n",
       "      <td>...</td>\n",
       "      <td>Czech Republic</td>\n",
       "      <td>FRA</td>\n",
       "      <td>FR</td>\n",
       "      <td>250</td>\n",
       "      <td>France</td>\n",
       "      <td>Mastercard</td>\n",
       "      <td>Intra -Sepa</td>\n",
       "      <td>Intra</td>\n",
       "      <td>4761CD6E93225E6D0AB9E55FBBA037DD</td>\n",
       "      <td>NaN</td>\n",
       "    </tr>\n",
       "    <tr>\n",
       "      <th>2</th>\n",
       "      <td>2833388</td>\n",
       "      <td>2017-04-01</td>\n",
       "      <td>2017-07-27</td>\n",
       "      <td>2017-07-27</td>\n",
       "      <td>51.0</td>\n",
       "      <td>m_stg_dim_trx_region</td>\n",
       "      <td>GLOBAL</td>\n",
       "      <td>7.0</td>\n",
       "      <td>2017-04-01</td>\n",
       "      <td>2999-12-31</td>\n",
       "      <td>...</td>\n",
       "      <td>Czech Republic</td>\n",
       "      <td>PHL</td>\n",
       "      <td>PH</td>\n",
       "      <td>608</td>\n",
       "      <td>Philippines</td>\n",
       "      <td>Visa</td>\n",
       "      <td>Interregional</td>\n",
       "      <td>Inter</td>\n",
       "      <td>456219565EDF917386F5EABFBEE9D09C</td>\n",
       "      <td>NaN</td>\n",
       "    </tr>\n",
       "    <tr>\n",
       "      <th>3</th>\n",
       "      <td>2833389</td>\n",
       "      <td>2017-04-01</td>\n",
       "      <td>2017-07-27</td>\n",
       "      <td>2017-07-27</td>\n",
       "      <td>51.0</td>\n",
       "      <td>m_stg_dim_trx_region</td>\n",
       "      <td>GLOBAL</td>\n",
       "      <td>7.0</td>\n",
       "      <td>2017-04-01</td>\n",
       "      <td>2999-12-31</td>\n",
       "      <td>...</td>\n",
       "      <td>Czech Republic</td>\n",
       "      <td>ROU</td>\n",
       "      <td>RO</td>\n",
       "      <td>642</td>\n",
       "      <td>Romania</td>\n",
       "      <td>Visa</td>\n",
       "      <td>Intraregional</td>\n",
       "      <td>Intra</td>\n",
       "      <td>9CA5718096E8BD793BAA1A3E87DF1B34</td>\n",
       "      <td>NaN</td>\n",
       "    </tr>\n",
       "    <tr>\n",
       "      <th>4</th>\n",
       "      <td>2833390</td>\n",
       "      <td>2017-04-01</td>\n",
       "      <td>2017-07-27</td>\n",
       "      <td>2017-07-27</td>\n",
       "      <td>51.0</td>\n",
       "      <td>m_stg_dim_trx_region</td>\n",
       "      <td>GLOBAL</td>\n",
       "      <td>7.0</td>\n",
       "      <td>2017-04-01</td>\n",
       "      <td>2999-12-31</td>\n",
       "      <td>...</td>\n",
       "      <td>Czech Republic</td>\n",
       "      <td>SGS</td>\n",
       "      <td>GS</td>\n",
       "      <td>239</td>\n",
       "      <td>South Georgia and the South Sandwich Islands</td>\n",
       "      <td>Visa</td>\n",
       "      <td>Intraregional</td>\n",
       "      <td>Intra</td>\n",
       "      <td>9CA5718096E8BD793BAA1A3E87DF1B34</td>\n",
       "      <td>NaN</td>\n",
       "    </tr>\n",
       "  </tbody>\n",
       "</table>\n",
       "<p>5 rows × 23 columns</p>\n",
       "</div>"
      ],
      "text/plain": [
       "   TRX_REGION_KEY ETL_RUN_DATE ETL_CREATION_DATE ETL_UPDATE_DATE  ETL_LOAD_NO  \\\n",
       "0         2833386   2017-04-01        2017-07-27      2017-07-27         51.0   \n",
       "1         2833387   2017-04-01        2017-07-27      2017-07-27         51.0   \n",
       "2         2833388   2017-04-01        2017-07-27      2017-07-27         51.0   \n",
       "3         2833389   2017-04-01        2017-07-27      2017-07-27         51.0   \n",
       "4         2833390   2017-04-01        2017-07-27      2017-07-27         51.0   \n",
       "\n",
       "       ETL_PROCESS_NAME ETL_SOURCE  SOURCE_SYSTEM_KEY EFFECTIVE_START_DATE  \\\n",
       "0  m_stg_dim_trx_region     GLOBAL                7.0           2017-04-01   \n",
       "1  m_stg_dim_trx_region     GLOBAL                7.0           2017-04-01   \n",
       "2  m_stg_dim_trx_region     GLOBAL                7.0           2017-04-01   \n",
       "3  m_stg_dim_trx_region     GLOBAL                7.0           2017-04-01   \n",
       "4  m_stg_dim_trx_region     GLOBAL                7.0           2017-04-01   \n",
       "\n",
       "  EFFECTIVE_END_DATE  ... BIN_COUNTRY_DESC MERCHANT_COUNTRY_ALPHA_3_ID  \\\n",
       "0         2999-12-31  ...           Cyprus                         RUS   \n",
       "1         2999-12-31  ...   Czech Republic                         FRA   \n",
       "2         2999-12-31  ...   Czech Republic                         PHL   \n",
       "3         2999-12-31  ...   Czech Republic                         ROU   \n",
       "4         2999-12-31  ...   Czech Republic                         SGS   \n",
       "\n",
       "   MERCHANT_COUNTRY_ALPHA_2_ID MERCHANT_COUNTRY_NUMERIC_ID  \\\n",
       "0                           RU                         643   \n",
       "1                           FR                         250   \n",
       "2                           PH                         608   \n",
       "3                           RO                         642   \n",
       "4                           GS                         239   \n",
       "\n",
       "                          MERCHANT_COUNTRY_DESC CARD_SCHEME_ID  \\\n",
       "0                            Russian Federation           Visa   \n",
       "1                                        France     Mastercard   \n",
       "2                                   Philippines           Visa   \n",
       "3                                       Romania           Visa   \n",
       "4  South Georgia and the South Sandwich Islands           Visa   \n",
       "\n",
       "   CARD_SCHEME_TRX_REGION CRX_TRX_REGION                           MD5_KEY  \\\n",
       "0           Interregional          Inter  456219565EDF917386F5EABFBEE9D09C   \n",
       "1             Intra -Sepa          Intra  4761CD6E93225E6D0AB9E55FBBA037DD   \n",
       "2           Interregional          Inter  456219565EDF917386F5EABFBEE9D09C   \n",
       "3           Intraregional          Intra  9CA5718096E8BD793BAA1A3E87DF1B34   \n",
       "4           Intraregional          Intra  9CA5718096E8BD793BAA1A3E87DF1B34   \n",
       "\n",
       "  ETL_SOURCE_PRIORITY  \n",
       "0                 NaN  \n",
       "1                 NaN  \n",
       "2                 NaN  \n",
       "3                 NaN  \n",
       "4                 NaN  \n",
       "\n",
       "[5 rows x 23 columns]"
      ]
     },
     "execution_count": 14,
     "metadata": {},
     "output_type": "execute_result"
    }
   ],
   "source": [
    "region_df = pd.read_csv('data/DIM_TRX_REGION.csv')\n",
    "region_df.head()"
   ]
  },
  {
   "cell_type": "code",
   "execution_count": 15,
   "id": "07500e78",
   "metadata": {},
   "outputs": [
    {
     "data": {
      "text/plain": [
       "(129310, 23)"
      ]
     },
     "execution_count": 15,
     "metadata": {},
     "output_type": "execute_result"
    }
   ],
   "source": [
    "region_df.shape"
   ]
  },
  {
   "cell_type": "markdown",
   "id": "c13dc355",
   "metadata": {},
   "source": [
    "Aside from lots of features relating to countries - some of which seem to be redundant - we also note that the Card Scheme ID (e.g. Visa or Mastercard) is listed here too. Let's clean the unneccesary database variables, and we'll take care of the rest later. "
   ]
  },
  {
   "cell_type": "code",
   "execution_count": 16,
   "id": "f0d6603d",
   "metadata": {},
   "outputs": [],
   "source": [
    "region_df.drop([\"ETL_RUN_DATE\", \"ETL_CREATION_DATE\",\"ETL_UPDATE_DATE\", \"ETL_LOAD_NO\", \"ETL_PROCESS_NAME\", \"ETL_SOURCE\",\n",
    "            \"SOURCE_SYSTEM_KEY\", \"EFFECTIVE_START_DATE\",\"EFFECTIVE_END_DATE\"], inplace=True, axis=1) # Database variables"
   ]
  },
  {
   "cell_type": "code",
   "execution_count": 17,
   "id": "f12104d0",
   "metadata": {},
   "outputs": [
    {
     "data": {
      "text/html": [
       "<div>\n",
       "<style scoped>\n",
       "    .dataframe tbody tr th:only-of-type {\n",
       "        vertical-align: middle;\n",
       "    }\n",
       "\n",
       "    .dataframe tbody tr th {\n",
       "        vertical-align: top;\n",
       "    }\n",
       "\n",
       "    .dataframe thead th {\n",
       "        text-align: right;\n",
       "    }\n",
       "</style>\n",
       "<table border=\"1\" class=\"dataframe\">\n",
       "  <thead>\n",
       "    <tr style=\"text-align: right;\">\n",
       "      <th></th>\n",
       "      <th>TRX_REGION_KEY</th>\n",
       "      <th>BIN_COUNTRY_ALPHA_3_ID</th>\n",
       "      <th>BIN_COUNTRY_ALPHA_2_ID</th>\n",
       "      <th>BIN_COUNTRY_NUMERIC_ID</th>\n",
       "      <th>BIN_COUNTRY_DESC</th>\n",
       "      <th>MERCHANT_COUNTRY_ALPHA_3_ID</th>\n",
       "      <th>MERCHANT_COUNTRY_ALPHA_2_ID</th>\n",
       "      <th>MERCHANT_COUNTRY_NUMERIC_ID</th>\n",
       "      <th>MERCHANT_COUNTRY_DESC</th>\n",
       "      <th>CARD_SCHEME_ID</th>\n",
       "      <th>CARD_SCHEME_TRX_REGION</th>\n",
       "      <th>CRX_TRX_REGION</th>\n",
       "      <th>MD5_KEY</th>\n",
       "      <th>ETL_SOURCE_PRIORITY</th>\n",
       "    </tr>\n",
       "  </thead>\n",
       "  <tbody>\n",
       "    <tr>\n",
       "      <th>0</th>\n",
       "      <td>2833386</td>\n",
       "      <td>CYP</td>\n",
       "      <td>CY</td>\n",
       "      <td>196</td>\n",
       "      <td>Cyprus</td>\n",
       "      <td>RUS</td>\n",
       "      <td>RU</td>\n",
       "      <td>643</td>\n",
       "      <td>Russian Federation</td>\n",
       "      <td>Visa</td>\n",
       "      <td>Interregional</td>\n",
       "      <td>Inter</td>\n",
       "      <td>456219565EDF917386F5EABFBEE9D09C</td>\n",
       "      <td>NaN</td>\n",
       "    </tr>\n",
       "    <tr>\n",
       "      <th>1</th>\n",
       "      <td>2833387</td>\n",
       "      <td>CZE</td>\n",
       "      <td>CZ</td>\n",
       "      <td>203</td>\n",
       "      <td>Czech Republic</td>\n",
       "      <td>FRA</td>\n",
       "      <td>FR</td>\n",
       "      <td>250</td>\n",
       "      <td>France</td>\n",
       "      <td>Mastercard</td>\n",
       "      <td>Intra -Sepa</td>\n",
       "      <td>Intra</td>\n",
       "      <td>4761CD6E93225E6D0AB9E55FBBA037DD</td>\n",
       "      <td>NaN</td>\n",
       "    </tr>\n",
       "    <tr>\n",
       "      <th>2</th>\n",
       "      <td>2833388</td>\n",
       "      <td>CZE</td>\n",
       "      <td>CZ</td>\n",
       "      <td>203</td>\n",
       "      <td>Czech Republic</td>\n",
       "      <td>PHL</td>\n",
       "      <td>PH</td>\n",
       "      <td>608</td>\n",
       "      <td>Philippines</td>\n",
       "      <td>Visa</td>\n",
       "      <td>Interregional</td>\n",
       "      <td>Inter</td>\n",
       "      <td>456219565EDF917386F5EABFBEE9D09C</td>\n",
       "      <td>NaN</td>\n",
       "    </tr>\n",
       "    <tr>\n",
       "      <th>3</th>\n",
       "      <td>2833389</td>\n",
       "      <td>CZE</td>\n",
       "      <td>CZ</td>\n",
       "      <td>203</td>\n",
       "      <td>Czech Republic</td>\n",
       "      <td>ROU</td>\n",
       "      <td>RO</td>\n",
       "      <td>642</td>\n",
       "      <td>Romania</td>\n",
       "      <td>Visa</td>\n",
       "      <td>Intraregional</td>\n",
       "      <td>Intra</td>\n",
       "      <td>9CA5718096E8BD793BAA1A3E87DF1B34</td>\n",
       "      <td>NaN</td>\n",
       "    </tr>\n",
       "    <tr>\n",
       "      <th>4</th>\n",
       "      <td>2833390</td>\n",
       "      <td>CZE</td>\n",
       "      <td>CZ</td>\n",
       "      <td>203</td>\n",
       "      <td>Czech Republic</td>\n",
       "      <td>SGS</td>\n",
       "      <td>GS</td>\n",
       "      <td>239</td>\n",
       "      <td>South Georgia and the South Sandwich Islands</td>\n",
       "      <td>Visa</td>\n",
       "      <td>Intraregional</td>\n",
       "      <td>Intra</td>\n",
       "      <td>9CA5718096E8BD793BAA1A3E87DF1B34</td>\n",
       "      <td>NaN</td>\n",
       "    </tr>\n",
       "  </tbody>\n",
       "</table>\n",
       "</div>"
      ],
      "text/plain": [
       "   TRX_REGION_KEY BIN_COUNTRY_ALPHA_3_ID BIN_COUNTRY_ALPHA_2_ID  \\\n",
       "0         2833386                    CYP                     CY   \n",
       "1         2833387                    CZE                     CZ   \n",
       "2         2833388                    CZE                     CZ   \n",
       "3         2833389                    CZE                     CZ   \n",
       "4         2833390                    CZE                     CZ   \n",
       "\n",
       "   BIN_COUNTRY_NUMERIC_ID BIN_COUNTRY_DESC MERCHANT_COUNTRY_ALPHA_3_ID  \\\n",
       "0                     196           Cyprus                         RUS   \n",
       "1                     203   Czech Republic                         FRA   \n",
       "2                     203   Czech Republic                         PHL   \n",
       "3                     203   Czech Republic                         ROU   \n",
       "4                     203   Czech Republic                         SGS   \n",
       "\n",
       "  MERCHANT_COUNTRY_ALPHA_2_ID  MERCHANT_COUNTRY_NUMERIC_ID  \\\n",
       "0                          RU                          643   \n",
       "1                          FR                          250   \n",
       "2                          PH                          608   \n",
       "3                          RO                          642   \n",
       "4                          GS                          239   \n",
       "\n",
       "                          MERCHANT_COUNTRY_DESC CARD_SCHEME_ID  \\\n",
       "0                            Russian Federation           Visa   \n",
       "1                                        France     Mastercard   \n",
       "2                                   Philippines           Visa   \n",
       "3                                       Romania           Visa   \n",
       "4  South Georgia and the South Sandwich Islands           Visa   \n",
       "\n",
       "  CARD_SCHEME_TRX_REGION CRX_TRX_REGION                           MD5_KEY  \\\n",
       "0          Interregional          Inter  456219565EDF917386F5EABFBEE9D09C   \n",
       "1            Intra -Sepa          Intra  4761CD6E93225E6D0AB9E55FBBA037DD   \n",
       "2          Interregional          Inter  456219565EDF917386F5EABFBEE9D09C   \n",
       "3          Intraregional          Intra  9CA5718096E8BD793BAA1A3E87DF1B34   \n",
       "4          Intraregional          Intra  9CA5718096E8BD793BAA1A3E87DF1B34   \n",
       "\n",
       "   ETL_SOURCE_PRIORITY  \n",
       "0                  NaN  \n",
       "1                  NaN  \n",
       "2                  NaN  \n",
       "3                  NaN  \n",
       "4                  NaN  "
      ]
     },
     "execution_count": 17,
     "metadata": {},
     "output_type": "execute_result"
    }
   ],
   "source": [
    "region_df.head()"
   ]
  },
  {
   "cell_type": "markdown",
   "id": "8a1e11b8",
   "metadata": {},
   "source": [
    "### Dispute Reason"
   ]
  },
  {
   "cell_type": "markdown",
   "id": "f22bde1a",
   "metadata": {},
   "source": [
    "This is the fun part: all of the various possible excuses which can be given for chargeback. Let's first load and examine the data:"
   ]
  },
  {
   "cell_type": "code",
   "execution_count": 18,
   "id": "a4a4506d",
   "metadata": {
    "scrolled": true
   },
   "outputs": [
    {
     "data": {
      "text/html": [
       "<div>\n",
       "<style scoped>\n",
       "    .dataframe tbody tr th:only-of-type {\n",
       "        vertical-align: middle;\n",
       "    }\n",
       "\n",
       "    .dataframe tbody tr th {\n",
       "        vertical-align: top;\n",
       "    }\n",
       "\n",
       "    .dataframe thead th {\n",
       "        text-align: right;\n",
       "    }\n",
       "</style>\n",
       "<table border=\"1\" class=\"dataframe\">\n",
       "  <thead>\n",
       "    <tr style=\"text-align: right;\">\n",
       "      <th></th>\n",
       "      <th>DISPUTE_REASON_KEY</th>\n",
       "      <th>ETL_RUN_DATE</th>\n",
       "      <th>ETL_CREATION_DATE</th>\n",
       "      <th>ETL_UPDATE_DATE</th>\n",
       "      <th>ETL_LOAD_NO</th>\n",
       "      <th>ETL_PROCESS_NAME</th>\n",
       "      <th>ETL_SOURCE</th>\n",
       "      <th>ETL_SOURCE_PRIORITY</th>\n",
       "      <th>SOURCE_SYSTEM_KEY</th>\n",
       "      <th>CARD_SCHEME_ID</th>\n",
       "      <th>CARD_SCHEME_DESC</th>\n",
       "      <th>DISPUTE_REASON_CODE</th>\n",
       "      <th>DISPUTE_REASON_BUSINESS_CODE</th>\n",
       "      <th>DISPUTE_REASON_DESC</th>\n",
       "      <th>DISPUTE_GROUP_DESC</th>\n",
       "      <th>WORKFLOW_TYPE</th>\n",
       "    </tr>\n",
       "  </thead>\n",
       "  <tbody>\n",
       "    <tr>\n",
       "      <th>0</th>\n",
       "      <td>126</td>\n",
       "      <td>2019-07-28</td>\n",
       "      <td>2019-07-29</td>\n",
       "      <td>2021-03-02</td>\n",
       "      <td>883</td>\n",
       "      <td>m_stg_dim_dispute_reason</td>\n",
       "      <td>WAY4_PRE</td>\n",
       "      <td>1</td>\n",
       "      <td>2</td>\n",
       "      <td>X</td>\n",
       "      <td>Amex</td>\n",
       "      <td>4799</td>\n",
       "      <td>4799</td>\n",
       "      <td>Fraud Liability Shift - Lost or Stolen</td>\n",
       "      <td>Unknown Dispute Group</td>\n",
       "      <td>Unknown Workflow Type</td>\n",
       "    </tr>\n",
       "    <tr>\n",
       "      <th>1</th>\n",
       "      <td>127</td>\n",
       "      <td>2019-07-28</td>\n",
       "      <td>2019-07-29</td>\n",
       "      <td>2021-03-02</td>\n",
       "      <td>883</td>\n",
       "      <td>m_stg_dim_dispute_reason</td>\n",
       "      <td>WAY4_PRE</td>\n",
       "      <td>1</td>\n",
       "      <td>2</td>\n",
       "      <td>S</td>\n",
       "      <td>Visa</td>\n",
       "      <td>VC41</td>\n",
       "      <td>41</td>\n",
       "      <td>Cancelled recurring transaction</td>\n",
       "      <td>Old Visa Chargeback Reason Code</td>\n",
       "      <td>Old Visa Chargeback Reason Code</td>\n",
       "    </tr>\n",
       "    <tr>\n",
       "      <th>2</th>\n",
       "      <td>128</td>\n",
       "      <td>2019-07-28</td>\n",
       "      <td>2019-07-29</td>\n",
       "      <td>2021-03-02</td>\n",
       "      <td>883</td>\n",
       "      <td>m_stg_dim_dispute_reason</td>\n",
       "      <td>WAY4_PRE</td>\n",
       "      <td>1</td>\n",
       "      <td>2</td>\n",
       "      <td>S</td>\n",
       "      <td>Visa</td>\n",
       "      <td>VC77</td>\n",
       "      <td>77</td>\n",
       "      <td>Non-matching account number</td>\n",
       "      <td>Old Visa Chargeback Reason Code</td>\n",
       "      <td>Old Visa Chargeback Reason Code</td>\n",
       "    </tr>\n",
       "    <tr>\n",
       "      <th>3</th>\n",
       "      <td>129</td>\n",
       "      <td>2019-07-28</td>\n",
       "      <td>2019-07-29</td>\n",
       "      <td>2021-03-02</td>\n",
       "      <td>883</td>\n",
       "      <td>m_stg_dim_dispute_reason</td>\n",
       "      <td>WAY4_PRE</td>\n",
       "      <td>1</td>\n",
       "      <td>2</td>\n",
       "      <td>S</td>\n",
       "      <td>Visa</td>\n",
       "      <td>VC86</td>\n",
       "      <td>86</td>\n",
       "      <td>Paid by other means (U.S. only)</td>\n",
       "      <td>Old Visa Chargeback Reason Code</td>\n",
       "      <td>Old Visa Chargeback Reason Code</td>\n",
       "    </tr>\n",
       "    <tr>\n",
       "      <th>4</th>\n",
       "      <td>130</td>\n",
       "      <td>2019-07-28</td>\n",
       "      <td>2019-07-29</td>\n",
       "      <td>2021-03-02</td>\n",
       "      <td>883</td>\n",
       "      <td>m_stg_dim_dispute_reason</td>\n",
       "      <td>WAY4_PRE</td>\n",
       "      <td>1</td>\n",
       "      <td>2</td>\n",
       "      <td>X</td>\n",
       "      <td>Amex</td>\n",
       "      <td>4517</td>\n",
       "      <td>4517</td>\n",
       "      <td>Request for Support Illegible/Incomplete</td>\n",
       "      <td>Unknown Dispute Group</td>\n",
       "      <td>Unknown Workflow Type</td>\n",
       "    </tr>\n",
       "  </tbody>\n",
       "</table>\n",
       "</div>"
      ],
      "text/plain": [
       "   DISPUTE_REASON_KEY ETL_RUN_DATE ETL_CREATION_DATE ETL_UPDATE_DATE  \\\n",
       "0                 126   2019-07-28        2019-07-29      2021-03-02   \n",
       "1                 127   2019-07-28        2019-07-29      2021-03-02   \n",
       "2                 128   2019-07-28        2019-07-29      2021-03-02   \n",
       "3                 129   2019-07-28        2019-07-29      2021-03-02   \n",
       "4                 130   2019-07-28        2019-07-29      2021-03-02   \n",
       "\n",
       "   ETL_LOAD_NO          ETL_PROCESS_NAME ETL_SOURCE  ETL_SOURCE_PRIORITY  \\\n",
       "0          883  m_stg_dim_dispute_reason   WAY4_PRE                    1   \n",
       "1          883  m_stg_dim_dispute_reason   WAY4_PRE                    1   \n",
       "2          883  m_stg_dim_dispute_reason   WAY4_PRE                    1   \n",
       "3          883  m_stg_dim_dispute_reason   WAY4_PRE                    1   \n",
       "4          883  m_stg_dim_dispute_reason   WAY4_PRE                    1   \n",
       "\n",
       "   SOURCE_SYSTEM_KEY CARD_SCHEME_ID CARD_SCHEME_DESC DISPUTE_REASON_CODE  \\\n",
       "0                  2              X             Amex                4799   \n",
       "1                  2              S             Visa                VC41   \n",
       "2                  2              S             Visa                VC77   \n",
       "3                  2              S             Visa                VC86   \n",
       "4                  2              X             Amex                4517   \n",
       "\n",
       "  DISPUTE_REASON_BUSINESS_CODE                       DISPUTE_REASON_DESC  \\\n",
       "0                         4799    Fraud Liability Shift - Lost or Stolen   \n",
       "1                           41           Cancelled recurring transaction   \n",
       "2                           77               Non-matching account number   \n",
       "3                           86           Paid by other means (U.S. only)   \n",
       "4                         4517  Request for Support Illegible/Incomplete   \n",
       "\n",
       "                DISPUTE_GROUP_DESC                    WORKFLOW_TYPE  \n",
       "0            Unknown Dispute Group            Unknown Workflow Type  \n",
       "1  Old Visa Chargeback Reason Code  Old Visa Chargeback Reason Code  \n",
       "2  Old Visa Chargeback Reason Code  Old Visa Chargeback Reason Code  \n",
       "3  Old Visa Chargeback Reason Code  Old Visa Chargeback Reason Code  \n",
       "4            Unknown Dispute Group            Unknown Workflow Type  "
      ]
     },
     "execution_count": 18,
     "metadata": {},
     "output_type": "execute_result"
    }
   ],
   "source": [
    "dispute_reason_df = pd.read_csv('data/DIM_DISPUTE_REASON.csv')\n",
    "dispute_reason_df.head()"
   ]
  },
  {
   "cell_type": "code",
   "execution_count": 19,
   "id": "6349369e",
   "metadata": {},
   "outputs": [
    {
     "data": {
      "text/plain": [
       "(330, 16)"
      ]
     },
     "execution_count": 19,
     "metadata": {},
     "output_type": "execute_result"
    }
   ],
   "source": [
    "dispute_reason_df.shape"
   ]
  },
  {
   "cell_type": "markdown",
   "id": "7900e719",
   "metadata": {},
   "source": [
    "Let's drop the columns we know are irrelevant and closely examine the Dispute Reason Key, since (as we'll see in the next section) this is our **target variable**."
   ]
  },
  {
   "cell_type": "code",
   "execution_count": 20,
   "id": "a4eb672d",
   "metadata": {},
   "outputs": [],
   "source": [
    "dispute_reason_df.drop([\"ETL_RUN_DATE\", \"ETL_CREATION_DATE\",\"ETL_UPDATE_DATE\", \"ETL_LOAD_NO\", \"ETL_PROCESS_NAME\", \"ETL_SOURCE\",\n",
    "            \"ETL_SOURCE_PRIORITY\", \"SOURCE_SYSTEM_KEY\"], inplace=True, axis=1) # Database variables\n",
    "dispute_reason_df.drop([\"CARD_SCHEME_DESC\", \"DISPUTE_REASON_CODE\", \"CARD_SCHEME_ID\"], inplace=True, axis=1) \n",
    "# The above variables appear in the main transaction database, therefore redundant\n",
    "dispute_reason_df.drop([\"DISPUTE_REASON_BUSINESS_CODE\"], inplace=True, axis=1) # Unnecessary"
   ]
  },
  {
   "cell_type": "code",
   "execution_count": 21,
   "id": "6a1726e9",
   "metadata": {},
   "outputs": [
    {
     "data": {
      "text/html": [
       "<div>\n",
       "<style scoped>\n",
       "    .dataframe tbody tr th:only-of-type {\n",
       "        vertical-align: middle;\n",
       "    }\n",
       "\n",
       "    .dataframe tbody tr th {\n",
       "        vertical-align: top;\n",
       "    }\n",
       "\n",
       "    .dataframe thead th {\n",
       "        text-align: right;\n",
       "    }\n",
       "</style>\n",
       "<table border=\"1\" class=\"dataframe\">\n",
       "  <thead>\n",
       "    <tr style=\"text-align: right;\">\n",
       "      <th></th>\n",
       "      <th>DISPUTE_REASON_KEY</th>\n",
       "      <th>DISPUTE_REASON_DESC</th>\n",
       "    </tr>\n",
       "  </thead>\n",
       "  <tbody>\n",
       "    <tr>\n",
       "      <th>256</th>\n",
       "      <td>246</td>\n",
       "      <td>Late presentment</td>\n",
       "    </tr>\n",
       "    <tr>\n",
       "      <th>303</th>\n",
       "      <td>293</td>\n",
       "      <td>Fraud. Trans. Exceeds Fl. Limit and not Author...</td>\n",
       "    </tr>\n",
       "    <tr>\n",
       "      <th>113</th>\n",
       "      <td>31</td>\n",
       "      <td>VCR  Duplicate Processing/Paid by Other Means</td>\n",
       "    </tr>\n",
       "    <tr>\n",
       "      <th>115</th>\n",
       "      <td>33</td>\n",
       "      <td>VCR  Processing Errors Category</td>\n",
       "    </tr>\n",
       "    <tr>\n",
       "      <th>173</th>\n",
       "      <td>91</td>\n",
       "      <td>For future chip card initiatives</td>\n",
       "    </tr>\n",
       "    <tr>\n",
       "      <th>8</th>\n",
       "      <td>134</td>\n",
       "      <td>Unauthorized Purchase</td>\n",
       "    </tr>\n",
       "    <tr>\n",
       "      <th>265</th>\n",
       "      <td>255</td>\n",
       "      <td>Cardholder does not recognise transaction</td>\n",
       "    </tr>\n",
       "    <tr>\n",
       "      <th>51</th>\n",
       "      <td>177</td>\n",
       "      <td>Counterfeit Trans. Magn. Stripe POS Fraud</td>\n",
       "    </tr>\n",
       "    <tr>\n",
       "      <th>213</th>\n",
       "      <td>322</td>\n",
       "      <td>Legal process request</td>\n",
       "    </tr>\n",
       "    <tr>\n",
       "      <th>95</th>\n",
       "      <td>13</td>\n",
       "      <td>Declined authorization</td>\n",
       "    </tr>\n",
       "    <tr>\n",
       "      <th>17</th>\n",
       "      <td>143</td>\n",
       "      <td>Retrieval Request</td>\n",
       "    </tr>\n",
       "    <tr>\n",
       "      <th>118</th>\n",
       "      <td>36</td>\n",
       "      <td>Expired card</td>\n",
       "    </tr>\n",
       "    <tr>\n",
       "      <th>324</th>\n",
       "      <td>314</td>\n",
       "      <td>NaN</td>\n",
       "    </tr>\n",
       "    <tr>\n",
       "      <th>251</th>\n",
       "      <td>241</td>\n",
       "      <td>VCR  Incorrect Amount</td>\n",
       "    </tr>\n",
       "    <tr>\n",
       "      <th>187</th>\n",
       "      <td>105</td>\n",
       "      <td>Non-receipt of required documentation to suppo...</td>\n",
       "    </tr>\n",
       "  </tbody>\n",
       "</table>\n",
       "</div>"
      ],
      "text/plain": [
       "     DISPUTE_REASON_KEY                                DISPUTE_REASON_DESC\n",
       "256                 246                                   Late presentment\n",
       "303                 293  Fraud. Trans. Exceeds Fl. Limit and not Author...\n",
       "113                  31      VCR  Duplicate Processing/Paid by Other Means\n",
       "115                  33                    VCR  Processing Errors Category\n",
       "173                  91                   For future chip card initiatives\n",
       "8                   134                              Unauthorized Purchase\n",
       "265                 255          Cardholder does not recognise transaction\n",
       "51                  177          Counterfeit Trans. Magn. Stripe POS Fraud\n",
       "213                 322                              Legal process request\n",
       "95                   13                             Declined authorization\n",
       "17                  143                                  Retrieval Request\n",
       "118                  36                                       Expired card\n",
       "324                 314                                                NaN\n",
       "251                 241                              VCR  Incorrect Amount\n",
       "187                 105  Non-receipt of required documentation to suppo..."
      ]
     },
     "execution_count": 21,
     "metadata": {},
     "output_type": "execute_result"
    }
   ],
   "source": [
    "dispute_reason_df[['DISPUTE_REASON_KEY', 'DISPUTE_REASON_DESC']].sample(15)"
   ]
  },
  {
   "cell_type": "markdown",
   "id": "f34a0906",
   "metadata": {},
   "source": [
    "Note that the reasons for chargeback substantially differ from one another. If we receive an additional transaction from a vendor for whom a previous transaction was labeled \"fraud investigation\", that'd raise a red flag, whereas \"missing signature\" can indicate technical difficulties which we expect to get resolved later, meaning that the risk for future transaction rejection is low.\n",
    "\n",
    "This observation has serious ramifications on our classification strategy. Do we want our model to simply learn the binary yes/no chargeback variable, or try to distinguish between the different chargeback types in an attempt to refine the model?\n",
    "\n",
    "We'll continue the discussion in the next section, but in the meantime it's worth noting *how many* dispute reasons exist, as that could play a major role in the decision."
   ]
  },
  {
   "cell_type": "code",
   "execution_count": 22,
   "id": "ad557b76",
   "metadata": {},
   "outputs": [
    {
     "data": {
      "text/plain": [
       "330"
      ]
     },
     "execution_count": 22,
     "metadata": {},
     "output_type": "execute_result"
    }
   ],
   "source": [
    "dispute_reason_df['DISPUTE_REASON_KEY'].nunique()"
   ]
  },
  {
   "cell_type": "code",
   "execution_count": 23,
   "id": "65f09588",
   "metadata": {},
   "outputs": [
    {
     "data": {
      "text/plain": [
       "327    -99\n",
       "326    -98\n",
       "83       1\n",
       "84       2\n",
       "85       3\n",
       "      ... \n",
       "215    324\n",
       "216    325\n",
       "217    326\n",
       "218    327\n",
       "325    328\n",
       "Name: DISPUTE_REASON_KEY, Length: 330, dtype: int64"
      ]
     },
     "execution_count": 23,
     "metadata": {},
     "output_type": "execute_result"
    }
   ],
   "source": [
    "dispute_reason_df['DISPUTE_REASON_KEY'].sort_values()"
   ]
  },
  {
   "cell_type": "markdown",
   "id": "3b62dd5a",
   "metadata": {},
   "source": [
    "There seem to be a total of 330 distinct dispute reasons. While a 330-category classification is likely not useful (and therefore we'd have to use the binary yes/no chargeback as the target variable instead), it's possible that we won't actually be using all of the categories. \n",
    "\n",
    "Notice that there are two negative values, -98 and -99. Let's take a closer look:"
   ]
  },
  {
   "cell_type": "code",
   "execution_count": 24,
   "id": "4f3626a2",
   "metadata": {},
   "outputs": [
    {
     "data": {
      "text/html": [
       "<div>\n",
       "<style scoped>\n",
       "    .dataframe tbody tr th:only-of-type {\n",
       "        vertical-align: middle;\n",
       "    }\n",
       "\n",
       "    .dataframe tbody tr th {\n",
       "        vertical-align: top;\n",
       "    }\n",
       "\n",
       "    .dataframe thead th {\n",
       "        text-align: right;\n",
       "    }\n",
       "</style>\n",
       "<table border=\"1\" class=\"dataframe\">\n",
       "  <thead>\n",
       "    <tr style=\"text-align: right;\">\n",
       "      <th></th>\n",
       "      <th>DISPUTE_REASON_KEY</th>\n",
       "      <th>DISPUTE_REASON_DESC</th>\n",
       "      <th>DISPUTE_GROUP_DESC</th>\n",
       "      <th>WORKFLOW_TYPE</th>\n",
       "    </tr>\n",
       "  </thead>\n",
       "  <tbody>\n",
       "    <tr>\n",
       "      <th>326</th>\n",
       "      <td>-98</td>\n",
       "      <td>NaN</td>\n",
       "      <td>NaN</td>\n",
       "      <td>NaN</td>\n",
       "    </tr>\n",
       "    <tr>\n",
       "      <th>327</th>\n",
       "      <td>-99</td>\n",
       "      <td>NaN</td>\n",
       "      <td>NaN</td>\n",
       "      <td>NaN</td>\n",
       "    </tr>\n",
       "  </tbody>\n",
       "</table>\n",
       "</div>"
      ],
      "text/plain": [
       "     DISPUTE_REASON_KEY DISPUTE_REASON_DESC DISPUTE_GROUP_DESC WORKFLOW_TYPE\n",
       "326                 -98                 NaN                NaN           NaN\n",
       "327                 -99                 NaN                NaN           NaN"
      ]
     },
     "execution_count": 24,
     "metadata": {},
     "output_type": "execute_result"
    }
   ],
   "source": [
    "dispute_reason_df[dispute_reason_df['DISPUTE_REASON_KEY'].isin([-99,-98])]"
   ]
  },
  {
   "cell_type": "markdown",
   "id": "93ef51af",
   "metadata": {},
   "source": [
    "As suspected, these are empty rows and can be removed from the dataset."
   ]
  },
  {
   "cell_type": "code",
   "execution_count": 25,
   "id": "dbc23d1e",
   "metadata": {},
   "outputs": [],
   "source": [
    "dispute_reason_df = dispute_reason_df[~dispute_reason_df['DISPUTE_REASON_KEY'].isin([-99,-98])] # ~ denotes \"not\""
   ]
  },
  {
   "cell_type": "markdown",
   "id": "f0ec196d",
   "metadata": {},
   "source": [
    "This indicates there may be more missing values. Since we know the Dispute Reason Key won't be missing, we can use the pandas' dropna command as is to remove all empty samples:"
   ]
  },
  {
   "cell_type": "code",
   "execution_count": 26,
   "id": "06939b34",
   "metadata": {},
   "outputs": [
    {
     "data": {
      "text/html": [
       "<div>\n",
       "<style scoped>\n",
       "    .dataframe tbody tr th:only-of-type {\n",
       "        vertical-align: middle;\n",
       "    }\n",
       "\n",
       "    .dataframe tbody tr th {\n",
       "        vertical-align: top;\n",
       "    }\n",
       "\n",
       "    .dataframe thead th {\n",
       "        text-align: right;\n",
       "    }\n",
       "</style>\n",
       "<table border=\"1\" class=\"dataframe\">\n",
       "  <thead>\n",
       "    <tr style=\"text-align: right;\">\n",
       "      <th></th>\n",
       "      <th>DISPUTE_REASON_KEY</th>\n",
       "      <th>DISPUTE_REASON_DESC</th>\n",
       "      <th>DISPUTE_GROUP_DESC</th>\n",
       "      <th>WORKFLOW_TYPE</th>\n",
       "    </tr>\n",
       "  </thead>\n",
       "  <tbody>\n",
       "    <tr>\n",
       "      <th>0</th>\n",
       "      <td>126</td>\n",
       "      <td>Fraud Liability Shift - Lost or Stolen</td>\n",
       "      <td>Unknown Dispute Group</td>\n",
       "      <td>Unknown Workflow Type</td>\n",
       "    </tr>\n",
       "    <tr>\n",
       "      <th>1</th>\n",
       "      <td>127</td>\n",
       "      <td>Cancelled recurring transaction</td>\n",
       "      <td>Old Visa Chargeback Reason Code</td>\n",
       "      <td>Old Visa Chargeback Reason Code</td>\n",
       "    </tr>\n",
       "    <tr>\n",
       "      <th>2</th>\n",
       "      <td>128</td>\n",
       "      <td>Non-matching account number</td>\n",
       "      <td>Old Visa Chargeback Reason Code</td>\n",
       "      <td>Old Visa Chargeback Reason Code</td>\n",
       "    </tr>\n",
       "    <tr>\n",
       "      <th>3</th>\n",
       "      <td>129</td>\n",
       "      <td>Paid by other means (U.S. only)</td>\n",
       "      <td>Old Visa Chargeback Reason Code</td>\n",
       "      <td>Old Visa Chargeback Reason Code</td>\n",
       "    </tr>\n",
       "    <tr>\n",
       "      <th>4</th>\n",
       "      <td>130</td>\n",
       "      <td>Request for Support Illegible/Incomplete</td>\n",
       "      <td>Unknown Dispute Group</td>\n",
       "      <td>Unknown Workflow Type</td>\n",
       "    </tr>\n",
       "    <tr>\n",
       "      <th>...</th>\n",
       "      <td>...</td>\n",
       "      <td>...</td>\n",
       "      <td>...</td>\n",
       "      <td>...</td>\n",
       "    </tr>\n",
       "    <tr>\n",
       "      <th>319</th>\n",
       "      <td>309</td>\n",
       "      <td>Local Regulatory/Legal Dispute</td>\n",
       "      <td>Unknown Dispute Group</td>\n",
       "      <td>Unknown Workflow Type</td>\n",
       "    </tr>\n",
       "    <tr>\n",
       "      <th>320</th>\n",
       "      <td>310</td>\n",
       "      <td>Fraud Liability Shift - Counterfeit</td>\n",
       "      <td>Unknown Dispute Group</td>\n",
       "      <td>Unknown Workflow Type</td>\n",
       "    </tr>\n",
       "    <tr>\n",
       "      <th>321</th>\n",
       "      <td>311</td>\n",
       "      <td>Not as described or defective merchandise</td>\n",
       "      <td>Old Visa Chargeback Reason Code</td>\n",
       "      <td>Old Visa Chargeback Reason Code</td>\n",
       "    </tr>\n",
       "    <tr>\n",
       "      <th>322</th>\n",
       "      <td>312</td>\n",
       "      <td>No authorization</td>\n",
       "      <td>Old Visa Chargeback Reason Code</td>\n",
       "      <td>Old Visa Chargeback Reason Code</td>\n",
       "    </tr>\n",
       "    <tr>\n",
       "      <th>323</th>\n",
       "      <td>313</td>\n",
       "      <td>Canceled guaranteed reservation</td>\n",
       "      <td>Unknown Dispute Group</td>\n",
       "      <td>Unknown DISPUTE WORKFLOW TYPE</td>\n",
       "    </tr>\n",
       "  </tbody>\n",
       "</table>\n",
       "<p>323 rows × 4 columns</p>\n",
       "</div>"
      ],
      "text/plain": [
       "     DISPUTE_REASON_KEY                        DISPUTE_REASON_DESC  \\\n",
       "0                   126     Fraud Liability Shift - Lost or Stolen   \n",
       "1                   127            Cancelled recurring transaction   \n",
       "2                   128                Non-matching account number   \n",
       "3                   129            Paid by other means (U.S. only)   \n",
       "4                   130   Request for Support Illegible/Incomplete   \n",
       "..                  ...                                        ...   \n",
       "319                 309             Local Regulatory/Legal Dispute   \n",
       "320                 310        Fraud Liability Shift - Counterfeit   \n",
       "321                 311  Not as described or defective merchandise   \n",
       "322                 312                           No authorization   \n",
       "323                 313            Canceled guaranteed reservation   \n",
       "\n",
       "                  DISPUTE_GROUP_DESC                    WORKFLOW_TYPE  \n",
       "0              Unknown Dispute Group            Unknown Workflow Type  \n",
       "1    Old Visa Chargeback Reason Code  Old Visa Chargeback Reason Code  \n",
       "2    Old Visa Chargeback Reason Code  Old Visa Chargeback Reason Code  \n",
       "3    Old Visa Chargeback Reason Code  Old Visa Chargeback Reason Code  \n",
       "4              Unknown Dispute Group            Unknown Workflow Type  \n",
       "..                               ...                              ...  \n",
       "319            Unknown Dispute Group            Unknown Workflow Type  \n",
       "320            Unknown Dispute Group            Unknown Workflow Type  \n",
       "321  Old Visa Chargeback Reason Code  Old Visa Chargeback Reason Code  \n",
       "322  Old Visa Chargeback Reason Code  Old Visa Chargeback Reason Code  \n",
       "323            Unknown Dispute Group    Unknown DISPUTE WORKFLOW TYPE  \n",
       "\n",
       "[323 rows x 4 columns]"
      ]
     },
     "execution_count": 26,
     "metadata": {},
     "output_type": "execute_result"
    }
   ],
   "source": [
    "dispute_reason_df.dropna()"
   ]
  },
  {
   "cell_type": "markdown",
   "id": "47839420",
   "metadata": {},
   "source": [
    "We see that five more rows have been removed. Now that we've seen the various possible reasons for chargeback, let's see how the transactions were actually labelled."
   ]
  },
  {
   "cell_type": "markdown",
   "id": "f72f08d7",
   "metadata": {},
   "source": [
    "### Labels for Transactions"
   ]
  },
  {
   "cell_type": "markdown",
   "id": "a81efe50",
   "metadata": {},
   "source": [
    "These are the transaction labels - the target variable. The table simply consists of the transaction key and the dispute reason key. If the dispute reason is zero, no chargeback occured. We load the two (zipped) files and can use a simple concatenation to put them together into a single table:"
   ]
  },
  {
   "cell_type": "code",
   "execution_count": 27,
   "id": "16930986",
   "metadata": {},
   "outputs": [
    {
     "data": {
      "text/html": [
       "<div>\n",
       "<style scoped>\n",
       "    .dataframe tbody tr th:only-of-type {\n",
       "        vertical-align: middle;\n",
       "    }\n",
       "\n",
       "    .dataframe tbody tr th {\n",
       "        vertical-align: top;\n",
       "    }\n",
       "\n",
       "    .dataframe thead th {\n",
       "        text-align: right;\n",
       "    }\n",
       "</style>\n",
       "<table border=\"1\" class=\"dataframe\">\n",
       "  <thead>\n",
       "    <tr style=\"text-align: right;\">\n",
       "      <th></th>\n",
       "      <th>UNIQUE_TRX_KEY</th>\n",
       "      <th>DISPUTE_REASON_KEY</th>\n",
       "    </tr>\n",
       "  </thead>\n",
       "  <tbody>\n",
       "    <tr>\n",
       "      <th>0</th>\n",
       "      <td>939083549</td>\n",
       "      <td>138</td>\n",
       "    </tr>\n",
       "    <tr>\n",
       "      <th>1</th>\n",
       "      <td>939091974</td>\n",
       "      <td>276</td>\n",
       "    </tr>\n",
       "    <tr>\n",
       "      <th>2</th>\n",
       "      <td>939083999</td>\n",
       "      <td>276</td>\n",
       "    </tr>\n",
       "    <tr>\n",
       "      <th>3</th>\n",
       "      <td>939099296</td>\n",
       "      <td>196</td>\n",
       "    </tr>\n",
       "    <tr>\n",
       "      <th>4</th>\n",
       "      <td>939094745</td>\n",
       "      <td>237</td>\n",
       "    </tr>\n",
       "    <tr>\n",
       "      <th>...</th>\n",
       "      <td>...</td>\n",
       "      <td>...</td>\n",
       "    </tr>\n",
       "    <tr>\n",
       "      <th>3048382</th>\n",
       "      <td>926364534</td>\n",
       "      <td>0</td>\n",
       "    </tr>\n",
       "    <tr>\n",
       "      <th>3048383</th>\n",
       "      <td>927421642</td>\n",
       "      <td>0</td>\n",
       "    </tr>\n",
       "    <tr>\n",
       "      <th>3048384</th>\n",
       "      <td>929440069</td>\n",
       "      <td>0</td>\n",
       "    </tr>\n",
       "    <tr>\n",
       "      <th>3048385</th>\n",
       "      <td>933972724</td>\n",
       "      <td>0</td>\n",
       "    </tr>\n",
       "    <tr>\n",
       "      <th>3048386</th>\n",
       "      <td>925023452</td>\n",
       "      <td>0</td>\n",
       "    </tr>\n",
       "  </tbody>\n",
       "</table>\n",
       "<p>6038459 rows × 2 columns</p>\n",
       "</div>"
      ],
      "text/plain": [
       "         UNIQUE_TRX_KEY  DISPUTE_REASON_KEY\n",
       "0             939083549                 138\n",
       "1             939091974                 276\n",
       "2             939083999                 276\n",
       "3             939099296                 196\n",
       "4             939094745                 237\n",
       "...                 ...                 ...\n",
       "3048382       926364534                   0\n",
       "3048383       927421642                   0\n",
       "3048384       929440069                   0\n",
       "3048385       933972724                   0\n",
       "3048386       925023452                   0\n",
       "\n",
       "[6038459 rows x 2 columns]"
      ]
     },
     "execution_count": 27,
     "metadata": {},
     "output_type": "execute_result"
    }
   ],
   "source": [
    "l1_df = pd.read_csv(\"data/labels_01-15-05-2020.csv.bz2\", compression = 'bz2')\n",
    "l2_df = pd.read_csv(\"data/labels_16-31-05-2020.csv.bz2\", compression = 'bz2')\n",
    "labels = [l1_df, l2_df]\n",
    "labels_df = pd.concat(labels)\n",
    "labels_df"
   ]
  },
  {
   "cell_type": "markdown",
   "id": "fb075187",
   "metadata": {},
   "source": [
    "Let's observe this data. How many unique chargeback reasons are there?"
   ]
  },
  {
   "cell_type": "code",
   "execution_count": 28,
   "id": "830d6870",
   "metadata": {},
   "outputs": [
    {
     "data": {
      "text/plain": [
       "UNIQUE_TRX_KEY        6023968\n",
       "DISPUTE_REASON_KEY         40\n",
       "dtype: int64"
      ]
     },
     "execution_count": 28,
     "metadata": {},
     "output_type": "execute_result"
    }
   ],
   "source": [
    "labels_df.nunique()"
   ]
  },
  {
   "cell_type": "markdown",
   "id": "1c6a6631",
   "metadata": {},
   "source": [
    "That's much fewer than the 323 possible categories we observed earlier. With 40 categories it might be reasonable to try to predict the chargeback category instead of having the model try and classify the binary yes/no chargeback question. Think about it this way: if the model is better at predicting the actual categories (with \"no chargeback\" being one of the 40) then we can simply sum up the categories in the end as \"yes chargeback\" with potentially better results.\n",
    "\n",
    "There's no guarantee that'll work - certainly when we're working with what we expect to be highly imbalanced data - but it could be worth considering later. Regardless, we add a binary yes/no chargeback label as well, as an alternative target variable which we can choose to use later."
   ]
  },
  {
   "cell_type": "code",
   "execution_count": 29,
   "id": "5085ffa3",
   "metadata": {},
   "outputs": [],
   "source": [
    "labels_df['CHARGEBACK'] = labels_df['DISPUTE_REASON_KEY'] != 0"
   ]
  },
  {
   "cell_type": "markdown",
   "id": "2aec0e1f",
   "metadata": {},
   "source": [
    "Let's check for duplicates as well. "
   ]
  },
  {
   "cell_type": "markdown",
   "id": "1357dc49",
   "metadata": {},
   "source": [
    "### Transactions: the main table"
   ]
  },
  {
   "cell_type": "markdown",
   "id": "bddfc7b8",
   "metadata": {},
   "source": [
    "Loading main features table (31 files, one per day of month) using file concatenation:"
   ]
  },
  {
   "cell_type": "code",
   "execution_count": 30,
   "id": "ea6d8d79",
   "metadata": {},
   "outputs": [],
   "source": [
    "trx = []\n",
    "for day in [str(x+1).zfill(2) for x in range(31)]:  # '01', '02' ... '31'\n",
    "    file_name = 'data/result_' + day + '-05-2020.csv.bz2'\n",
    "    trx.append(pd.read_csv(file_name, compression='bz2'))\n",
    "trx_df = pd.concat(trx)"
   ]
  },
  {
   "cell_type": "code",
   "execution_count": 31,
   "id": "1a265598",
   "metadata": {},
   "outputs": [
    {
     "data": {
      "text/plain": [
       "(6023968, 14)"
      ]
     },
     "execution_count": 31,
     "metadata": {},
     "output_type": "execute_result"
    }
   ],
   "source": [
    "trx_df.shape"
   ]
  },
  {
   "cell_type": "markdown",
   "id": "5afae6e6",
   "metadata": {},
   "source": [
    "We now can join all of the supplementary data tables to create a full dataset with multiple features relating to AVS and CVV authentication, the region(s) related to the transaction, the type of merchant, and the many chargeback reasons.  "
   ]
  },
  {
   "cell_type": "code",
   "execution_count": 32,
   "id": "00b4d472",
   "metadata": {},
   "outputs": [],
   "source": [
    "trx_df = trx_df.set_index('UNIQUE_TRX_KEY').join(labels_df.drop_duplicates().set_index('UNIQUE_TRX_KEY')).reset_index()\n",
    "trx_df = trx_df.set_index('MCC_KEY').join(mcc_df.set_index('MCC_KEY'))\n",
    "trx_df = trx_df.set_index('AVS_RESULT_KEY').join(avs_df.set_index('AVS_RESPONSE_KEY'))\n",
    "trx_df = trx_df.set_index('CVV_RESULT_KEY').join(cvv_df.set_index('CVV_RESPONSE_KEY'), )\n",
    "trx_df = trx_df.set_index('TRX_REGION_KEY').join(region_df.set_index('TRX_REGION_KEY'))\n",
    "trx_df = trx_df.set_index('DISPUTE_REASON_KEY').join(dispute_reason_df.set_index('DISPUTE_REASON_KEY'))\n",
    "# drop duplicates?"
   ]
  },
  {
   "cell_type": "code",
   "execution_count": 33,
   "id": "b233c316",
   "metadata": {},
   "outputs": [
    {
     "data": {
      "text/html": [
       "<div>\n",
       "<style scoped>\n",
       "    .dataframe tbody tr th:only-of-type {\n",
       "        vertical-align: middle;\n",
       "    }\n",
       "\n",
       "    .dataframe tbody tr th {\n",
       "        vertical-align: top;\n",
       "    }\n",
       "\n",
       "    .dataframe thead th {\n",
       "        text-align: right;\n",
       "    }\n",
       "</style>\n",
       "<table border=\"1\" class=\"dataframe\">\n",
       "  <thead>\n",
       "    <tr style=\"text-align: right;\">\n",
       "      <th></th>\n",
       "      <th>UNIQUE_TRX_KEY</th>\n",
       "      <th>REQUEST_TIME_UTC</th>\n",
       "      <th>TRX_CURRENCY</th>\n",
       "      <th>TRX_AMOUNT_ORG</th>\n",
       "      <th>TRX_AMOUNT_USD</th>\n",
       "      <th>COUNTRY_BY_IP</th>\n",
       "      <th>MID</th>\n",
       "      <th>THREEDS</th>\n",
       "      <th>COUNTRY_BY_BIN</th>\n",
       "      <th>CARD_SCHEME_DESC</th>\n",
       "      <th>...</th>\n",
       "      <th>MERCHANT_COUNTRY_NUMERIC_ID</th>\n",
       "      <th>MERCHANT_COUNTRY_DESC</th>\n",
       "      <th>CARD_SCHEME_ID</th>\n",
       "      <th>CARD_SCHEME_TRX_REGION</th>\n",
       "      <th>CRX_TRX_REGION</th>\n",
       "      <th>MD5_KEY</th>\n",
       "      <th>ETL_SOURCE_PRIORITY</th>\n",
       "      <th>DISPUTE_REASON_DESC</th>\n",
       "      <th>DISPUTE_GROUP_DESC</th>\n",
       "      <th>WORKFLOW_TYPE</th>\n",
       "    </tr>\n",
       "    <tr>\n",
       "      <th>DISPUTE_REASON_KEY</th>\n",
       "      <th></th>\n",
       "      <th></th>\n",
       "      <th></th>\n",
       "      <th></th>\n",
       "      <th></th>\n",
       "      <th></th>\n",
       "      <th></th>\n",
       "      <th></th>\n",
       "      <th></th>\n",
       "      <th></th>\n",
       "      <th></th>\n",
       "      <th></th>\n",
       "      <th></th>\n",
       "      <th></th>\n",
       "      <th></th>\n",
       "      <th></th>\n",
       "      <th></th>\n",
       "      <th></th>\n",
       "      <th></th>\n",
       "      <th></th>\n",
       "      <th></th>\n",
       "    </tr>\n",
       "  </thead>\n",
       "  <tbody>\n",
       "    <tr>\n",
       "      <th>0</th>\n",
       "      <td>915797123</td>\n",
       "      <td>2020-05-04 15:40:48.000</td>\n",
       "      <td>USD</td>\n",
       "      <td>0.99</td>\n",
       "      <td>0.990000</td>\n",
       "      <td>USA</td>\n",
       "      <td>cce9fcd033c9ae9f42e2923e4f15af7be6540370cce1ae...</td>\n",
       "      <td>0</td>\n",
       "      <td>ZAR</td>\n",
       "      <td>Mastercard</td>\n",
       "      <td>...</td>\n",
       "      <td>-1</td>\n",
       "      <td>Unknown country</td>\n",
       "      <td>-1</td>\n",
       "      <td>Unknown Card Scheme Region</td>\n",
       "      <td>Unknown Crx Region</td>\n",
       "      <td>NaN</td>\n",
       "      <td>NaN</td>\n",
       "      <td>NaN</td>\n",
       "      <td>NaN</td>\n",
       "      <td>NaN</td>\n",
       "    </tr>\n",
       "    <tr>\n",
       "      <th>0</th>\n",
       "      <td>926961956</td>\n",
       "      <td>2020-05-21 12:49:31.000</td>\n",
       "      <td>USD</td>\n",
       "      <td>17.95</td>\n",
       "      <td>17.950000</td>\n",
       "      <td>COD</td>\n",
       "      <td>cce9fcd033c9ae9f42e2923e4f15af7be6540370cce1ae...</td>\n",
       "      <td>0</td>\n",
       "      <td>ZAR</td>\n",
       "      <td>Mastercard</td>\n",
       "      <td>...</td>\n",
       "      <td>-1</td>\n",
       "      <td>Unknown country</td>\n",
       "      <td>-1</td>\n",
       "      <td>Unknown Card Scheme Region</td>\n",
       "      <td>Unknown Crx Region</td>\n",
       "      <td>NaN</td>\n",
       "      <td>NaN</td>\n",
       "      <td>NaN</td>\n",
       "      <td>NaN</td>\n",
       "      <td>NaN</td>\n",
       "    </tr>\n",
       "    <tr>\n",
       "      <th>0</th>\n",
       "      <td>927577660</td>\n",
       "      <td>2020-05-22 13:11:33.000</td>\n",
       "      <td>USD</td>\n",
       "      <td>17.95</td>\n",
       "      <td>17.950000</td>\n",
       "      <td>COD</td>\n",
       "      <td>cce9fcd033c9ae9f42e2923e4f15af7be6540370cce1ae...</td>\n",
       "      <td>0</td>\n",
       "      <td>ZAR</td>\n",
       "      <td>Mastercard</td>\n",
       "      <td>...</td>\n",
       "      <td>-1</td>\n",
       "      <td>Unknown country</td>\n",
       "      <td>-1</td>\n",
       "      <td>Unknown Card Scheme Region</td>\n",
       "      <td>Unknown Crx Region</td>\n",
       "      <td>NaN</td>\n",
       "      <td>NaN</td>\n",
       "      <td>NaN</td>\n",
       "      <td>NaN</td>\n",
       "      <td>NaN</td>\n",
       "    </tr>\n",
       "    <tr>\n",
       "      <th>0</th>\n",
       "      <td>927873955</td>\n",
       "      <td>2020-05-22 13:06:49.000</td>\n",
       "      <td>USD</td>\n",
       "      <td>15.95</td>\n",
       "      <td>15.950000</td>\n",
       "      <td>COD</td>\n",
       "      <td>cce9fcd033c9ae9f42e2923e4f15af7be6540370cce1ae...</td>\n",
       "      <td>0</td>\n",
       "      <td>ZAR</td>\n",
       "      <td>Mastercard</td>\n",
       "      <td>...</td>\n",
       "      <td>-1</td>\n",
       "      <td>Unknown country</td>\n",
       "      <td>-1</td>\n",
       "      <td>Unknown Card Scheme Region</td>\n",
       "      <td>Unknown Crx Region</td>\n",
       "      <td>NaN</td>\n",
       "      <td>NaN</td>\n",
       "      <td>NaN</td>\n",
       "      <td>NaN</td>\n",
       "      <td>NaN</td>\n",
       "    </tr>\n",
       "    <tr>\n",
       "      <th>0</th>\n",
       "      <td>931041793</td>\n",
       "      <td>2020-05-27 21:15:27.000</td>\n",
       "      <td>USD</td>\n",
       "      <td>15.95</td>\n",
       "      <td>15.950000</td>\n",
       "      <td>UGA</td>\n",
       "      <td>cce9fcd033c9ae9f42e2923e4f15af7be6540370cce1ae...</td>\n",
       "      <td>0</td>\n",
       "      <td>ZAR</td>\n",
       "      <td>Mastercard</td>\n",
       "      <td>...</td>\n",
       "      <td>-1</td>\n",
       "      <td>Unknown country</td>\n",
       "      <td>-1</td>\n",
       "      <td>Unknown Card Scheme Region</td>\n",
       "      <td>Unknown Crx Region</td>\n",
       "      <td>NaN</td>\n",
       "      <td>NaN</td>\n",
       "      <td>NaN</td>\n",
       "      <td>NaN</td>\n",
       "      <td>NaN</td>\n",
       "    </tr>\n",
       "    <tr>\n",
       "      <th>...</th>\n",
       "      <td>...</td>\n",
       "      <td>...</td>\n",
       "      <td>...</td>\n",
       "      <td>...</td>\n",
       "      <td>...</td>\n",
       "      <td>...</td>\n",
       "      <td>...</td>\n",
       "      <td>...</td>\n",
       "      <td>...</td>\n",
       "      <td>...</td>\n",
       "      <td>...</td>\n",
       "      <td>...</td>\n",
       "      <td>...</td>\n",
       "      <td>...</td>\n",
       "      <td>...</td>\n",
       "      <td>...</td>\n",
       "      <td>...</td>\n",
       "      <td>...</td>\n",
       "      <td>...</td>\n",
       "      <td>...</td>\n",
       "      <td>...</td>\n",
       "    </tr>\n",
       "    <tr>\n",
       "      <th>305</th>\n",
       "      <td>930962472</td>\n",
       "      <td>2020-05-27 16:12:16.000</td>\n",
       "      <td>HKD</td>\n",
       "      <td>1000.00</td>\n",
       "      <td>128.996290</td>\n",
       "      <td>-1</td>\n",
       "      <td>aae0d223704d434e20da7c4f655c9a0d6d1058cc5280be...</td>\n",
       "      <td>0</td>\n",
       "      <td>HKG</td>\n",
       "      <td>Visa</td>\n",
       "      <td>...</td>\n",
       "      <td>826</td>\n",
       "      <td>United Kingdom</td>\n",
       "      <td>Visa</td>\n",
       "      <td>Interregional</td>\n",
       "      <td>Inter</td>\n",
       "      <td>456219565EDF917386F5EABFBEE9D09C</td>\n",
       "      <td>NaN</td>\n",
       "      <td>VCR  Credit Not Processed</td>\n",
       "      <td>Visa Consumer Disputes - Collaboration</td>\n",
       "      <td>Visa Consumer Disputes - Collaboration</td>\n",
       "    </tr>\n",
       "    <tr>\n",
       "      <th>305</th>\n",
       "      <td>931139492</td>\n",
       "      <td>2020-05-27 07:04:58.000</td>\n",
       "      <td>HKD</td>\n",
       "      <td>1000.00</td>\n",
       "      <td>128.996290</td>\n",
       "      <td>-1</td>\n",
       "      <td>aae0d223704d434e20da7c4f655c9a0d6d1058cc5280be...</td>\n",
       "      <td>0</td>\n",
       "      <td>HKG</td>\n",
       "      <td>Visa</td>\n",
       "      <td>...</td>\n",
       "      <td>826</td>\n",
       "      <td>United Kingdom</td>\n",
       "      <td>Visa</td>\n",
       "      <td>Interregional</td>\n",
       "      <td>Inter</td>\n",
       "      <td>456219565EDF917386F5EABFBEE9D09C</td>\n",
       "      <td>NaN</td>\n",
       "      <td>VCR  Credit Not Processed</td>\n",
       "      <td>Visa Consumer Disputes - Collaboration</td>\n",
       "      <td>Visa Consumer Disputes - Collaboration</td>\n",
       "    </tr>\n",
       "    <tr>\n",
       "      <th>305</th>\n",
       "      <td>931287381</td>\n",
       "      <td>2020-05-27 20:06:51.000</td>\n",
       "      <td>HKD</td>\n",
       "      <td>1000.00</td>\n",
       "      <td>128.996290</td>\n",
       "      <td>-1</td>\n",
       "      <td>aae0d223704d434e20da7c4f655c9a0d6d1058cc5280be...</td>\n",
       "      <td>0</td>\n",
       "      <td>HKG</td>\n",
       "      <td>Visa</td>\n",
       "      <td>...</td>\n",
       "      <td>826</td>\n",
       "      <td>United Kingdom</td>\n",
       "      <td>Visa</td>\n",
       "      <td>Interregional</td>\n",
       "      <td>Inter</td>\n",
       "      <td>456219565EDF917386F5EABFBEE9D09C</td>\n",
       "      <td>NaN</td>\n",
       "      <td>VCR  Credit Not Processed</td>\n",
       "      <td>Visa Consumer Disputes - Collaboration</td>\n",
       "      <td>Visa Consumer Disputes - Collaboration</td>\n",
       "    </tr>\n",
       "    <tr>\n",
       "      <th>305</th>\n",
       "      <td>931531753</td>\n",
       "      <td>2020-05-28 07:51:23.000</td>\n",
       "      <td>HKD</td>\n",
       "      <td>4190.00</td>\n",
       "      <td>540.436256</td>\n",
       "      <td>-1</td>\n",
       "      <td>aae0d223704d434e20da7c4f655c9a0d6d1058cc5280be...</td>\n",
       "      <td>0</td>\n",
       "      <td>HKG</td>\n",
       "      <td>Visa</td>\n",
       "      <td>...</td>\n",
       "      <td>826</td>\n",
       "      <td>United Kingdom</td>\n",
       "      <td>Visa</td>\n",
       "      <td>Interregional</td>\n",
       "      <td>Inter</td>\n",
       "      <td>456219565EDF917386F5EABFBEE9D09C</td>\n",
       "      <td>NaN</td>\n",
       "      <td>VCR  Credit Not Processed</td>\n",
       "      <td>Visa Consumer Disputes - Collaboration</td>\n",
       "      <td>Visa Consumer Disputes - Collaboration</td>\n",
       "    </tr>\n",
       "    <tr>\n",
       "      <th>305</th>\n",
       "      <td>919231999</td>\n",
       "      <td>2020-05-09 20:25:59.000</td>\n",
       "      <td>AUD</td>\n",
       "      <td>164.00</td>\n",
       "      <td>107.039787</td>\n",
       "      <td>-1</td>\n",
       "      <td>004c49175da554a03b7ea5691a398b2eaee4032e372fc9...</td>\n",
       "      <td>0</td>\n",
       "      <td>AUS</td>\n",
       "      <td>Visa</td>\n",
       "      <td>...</td>\n",
       "      <td>826</td>\n",
       "      <td>United Kingdom</td>\n",
       "      <td>Visa</td>\n",
       "      <td>Interregional</td>\n",
       "      <td>Inter</td>\n",
       "      <td>456219565EDF917386F5EABFBEE9D09C</td>\n",
       "      <td>NaN</td>\n",
       "      <td>VCR  Credit Not Processed</td>\n",
       "      <td>Visa Consumer Disputes - Collaboration</td>\n",
       "      <td>Visa Consumer Disputes - Collaboration</td>\n",
       "    </tr>\n",
       "  </tbody>\n",
       "</table>\n",
       "<p>6030553 rows × 40 columns</p>\n",
       "</div>"
      ],
      "text/plain": [
       "                    UNIQUE_TRX_KEY         REQUEST_TIME_UTC TRX_CURRENCY  \\\n",
       "DISPUTE_REASON_KEY                                                         \n",
       "0                        915797123  2020-05-04 15:40:48.000          USD   \n",
       "0                        926961956  2020-05-21 12:49:31.000          USD   \n",
       "0                        927577660  2020-05-22 13:11:33.000          USD   \n",
       "0                        927873955  2020-05-22 13:06:49.000          USD   \n",
       "0                        931041793  2020-05-27 21:15:27.000          USD   \n",
       "...                            ...                      ...          ...   \n",
       "305                      930962472  2020-05-27 16:12:16.000          HKD   \n",
       "305                      931139492  2020-05-27 07:04:58.000          HKD   \n",
       "305                      931287381  2020-05-27 20:06:51.000          HKD   \n",
       "305                      931531753  2020-05-28 07:51:23.000          HKD   \n",
       "305                      919231999  2020-05-09 20:25:59.000          AUD   \n",
       "\n",
       "                    TRX_AMOUNT_ORG  TRX_AMOUNT_USD COUNTRY_BY_IP  \\\n",
       "DISPUTE_REASON_KEY                                                 \n",
       "0                             0.99        0.990000           USA   \n",
       "0                            17.95       17.950000           COD   \n",
       "0                            17.95       17.950000           COD   \n",
       "0                            15.95       15.950000           COD   \n",
       "0                            15.95       15.950000           UGA   \n",
       "...                            ...             ...           ...   \n",
       "305                        1000.00      128.996290            -1   \n",
       "305                        1000.00      128.996290            -1   \n",
       "305                        1000.00      128.996290            -1   \n",
       "305                        4190.00      540.436256            -1   \n",
       "305                         164.00      107.039787            -1   \n",
       "\n",
       "                                                                  MID  \\\n",
       "DISPUTE_REASON_KEY                                                      \n",
       "0                   cce9fcd033c9ae9f42e2923e4f15af7be6540370cce1ae...   \n",
       "0                   cce9fcd033c9ae9f42e2923e4f15af7be6540370cce1ae...   \n",
       "0                   cce9fcd033c9ae9f42e2923e4f15af7be6540370cce1ae...   \n",
       "0                   cce9fcd033c9ae9f42e2923e4f15af7be6540370cce1ae...   \n",
       "0                   cce9fcd033c9ae9f42e2923e4f15af7be6540370cce1ae...   \n",
       "...                                                               ...   \n",
       "305                 aae0d223704d434e20da7c4f655c9a0d6d1058cc5280be...   \n",
       "305                 aae0d223704d434e20da7c4f655c9a0d6d1058cc5280be...   \n",
       "305                 aae0d223704d434e20da7c4f655c9a0d6d1058cc5280be...   \n",
       "305                 aae0d223704d434e20da7c4f655c9a0d6d1058cc5280be...   \n",
       "305                 004c49175da554a03b7ea5691a398b2eaee4032e372fc9...   \n",
       "\n",
       "                    THREEDS COUNTRY_BY_BIN CARD_SCHEME_DESC  ...  \\\n",
       "DISPUTE_REASON_KEY                                           ...   \n",
       "0                         0            ZAR       Mastercard  ...   \n",
       "0                         0            ZAR       Mastercard  ...   \n",
       "0                         0            ZAR       Mastercard  ...   \n",
       "0                         0            ZAR       Mastercard  ...   \n",
       "0                         0            ZAR       Mastercard  ...   \n",
       "...                     ...            ...              ...  ...   \n",
       "305                       0            HKG             Visa  ...   \n",
       "305                       0            HKG             Visa  ...   \n",
       "305                       0            HKG             Visa  ...   \n",
       "305                       0            HKG             Visa  ...   \n",
       "305                       0            AUS             Visa  ...   \n",
       "\n",
       "                    MERCHANT_COUNTRY_NUMERIC_ID  MERCHANT_COUNTRY_DESC  \\\n",
       "DISPUTE_REASON_KEY                                                       \n",
       "0                                            -1        Unknown country   \n",
       "0                                            -1        Unknown country   \n",
       "0                                            -1        Unknown country   \n",
       "0                                            -1        Unknown country   \n",
       "0                                            -1        Unknown country   \n",
       "...                                         ...                    ...   \n",
       "305                                         826         United Kingdom   \n",
       "305                                         826         United Kingdom   \n",
       "305                                         826         United Kingdom   \n",
       "305                                         826         United Kingdom   \n",
       "305                                         826         United Kingdom   \n",
       "\n",
       "                    CARD_SCHEME_ID      CARD_SCHEME_TRX_REGION  \\\n",
       "DISPUTE_REASON_KEY                                               \n",
       "0                               -1  Unknown Card Scheme Region   \n",
       "0                               -1  Unknown Card Scheme Region   \n",
       "0                               -1  Unknown Card Scheme Region   \n",
       "0                               -1  Unknown Card Scheme Region   \n",
       "0                               -1  Unknown Card Scheme Region   \n",
       "...                            ...                         ...   \n",
       "305                           Visa               Interregional   \n",
       "305                           Visa               Interregional   \n",
       "305                           Visa               Interregional   \n",
       "305                           Visa               Interregional   \n",
       "305                           Visa               Interregional   \n",
       "\n",
       "                        CRX_TRX_REGION                           MD5_KEY  \\\n",
       "DISPUTE_REASON_KEY                                                         \n",
       "0                   Unknown Crx Region                               NaN   \n",
       "0                   Unknown Crx Region                               NaN   \n",
       "0                   Unknown Crx Region                               NaN   \n",
       "0                   Unknown Crx Region                               NaN   \n",
       "0                   Unknown Crx Region                               NaN   \n",
       "...                                ...                               ...   \n",
       "305                              Inter  456219565EDF917386F5EABFBEE9D09C   \n",
       "305                              Inter  456219565EDF917386F5EABFBEE9D09C   \n",
       "305                              Inter  456219565EDF917386F5EABFBEE9D09C   \n",
       "305                              Inter  456219565EDF917386F5EABFBEE9D09C   \n",
       "305                              Inter  456219565EDF917386F5EABFBEE9D09C   \n",
       "\n",
       "                   ETL_SOURCE_PRIORITY        DISPUTE_REASON_DESC  \\\n",
       "DISPUTE_REASON_KEY                                                  \n",
       "0                                  NaN                        NaN   \n",
       "0                                  NaN                        NaN   \n",
       "0                                  NaN                        NaN   \n",
       "0                                  NaN                        NaN   \n",
       "0                                  NaN                        NaN   \n",
       "...                                ...                        ...   \n",
       "305                                NaN  VCR  Credit Not Processed   \n",
       "305                                NaN  VCR  Credit Not Processed   \n",
       "305                                NaN  VCR  Credit Not Processed   \n",
       "305                                NaN  VCR  Credit Not Processed   \n",
       "305                                NaN  VCR  Credit Not Processed   \n",
       "\n",
       "                                        DISPUTE_GROUP_DESC  \\\n",
       "DISPUTE_REASON_KEY                                           \n",
       "0                                                      NaN   \n",
       "0                                                      NaN   \n",
       "0                                                      NaN   \n",
       "0                                                      NaN   \n",
       "0                                                      NaN   \n",
       "...                                                    ...   \n",
       "305                 Visa Consumer Disputes - Collaboration   \n",
       "305                 Visa Consumer Disputes - Collaboration   \n",
       "305                 Visa Consumer Disputes - Collaboration   \n",
       "305                 Visa Consumer Disputes - Collaboration   \n",
       "305                 Visa Consumer Disputes - Collaboration   \n",
       "\n",
       "                                             WORKFLOW_TYPE  \n",
       "DISPUTE_REASON_KEY                                          \n",
       "0                                                      NaN  \n",
       "0                                                      NaN  \n",
       "0                                                      NaN  \n",
       "0                                                      NaN  \n",
       "0                                                      NaN  \n",
       "...                                                    ...  \n",
       "305                 Visa Consumer Disputes - Collaboration  \n",
       "305                 Visa Consumer Disputes - Collaboration  \n",
       "305                 Visa Consumer Disputes - Collaboration  \n",
       "305                 Visa Consumer Disputes - Collaboration  \n",
       "305                 Visa Consumer Disputes - Collaboration  \n",
       "\n",
       "[6030553 rows x 40 columns]"
      ]
     },
     "execution_count": 33,
     "metadata": {},
     "output_type": "execute_result"
    }
   ],
   "source": [
    "trx_df"
   ]
  },
  {
   "cell_type": "code",
   "execution_count": 34,
   "id": "49dedebd",
   "metadata": {},
   "outputs": [],
   "source": [
    "# why \n",
    "\n",
    "# drop duplicates?"
   ]
  },
  {
   "cell_type": "code",
   "execution_count": 35,
   "id": "745c0b8c",
   "metadata": {},
   "outputs": [
    {
     "data": {
      "text/plain": [
       "UNIQUE_TRX_KEY                   int64\n",
       "REQUEST_TIME_UTC                object\n",
       "TRX_CURRENCY                    object\n",
       "TRX_AMOUNT_ORG                 float64\n",
       "TRX_AMOUNT_USD                 float64\n",
       "COUNTRY_BY_IP                   object\n",
       "MID                             object\n",
       "THREEDS                          int64\n",
       "COUNTRY_BY_BIN                  object\n",
       "CARD_SCHEME_DESC                object\n",
       "CHARGEBACK                        bool\n",
       "MCC_ID                           int64\n",
       "IS_VISA_HIGH_RISK                int64\n",
       "IS_MC_HIGH_RISK                  int64\n",
       "MCC_GROUP                       object\n",
       "AVS_RESPONSE_ID                 object\n",
       "AVS_RESPONSE_DESC               object\n",
       "AVS_ADDRESS_MATCH                int64\n",
       "AVS_ZIP_YES_MATCH                int64\n",
       "AVS_ZIP_NO_MATCH                 int64\n",
       "CVV_RESPONSE_ID                 object\n",
       "CVV_RESPONSE_DESC               object\n",
       "CVV_YES_MATCH                    int64\n",
       "CVV_NO_MATCH                     int64\n",
       "BIN_COUNTRY_ALPHA_3_ID          object\n",
       "BIN_COUNTRY_ALPHA_2_ID          object\n",
       "BIN_COUNTRY_NUMERIC_ID           int64\n",
       "BIN_COUNTRY_DESC                object\n",
       "MERCHANT_COUNTRY_ALPHA_3_ID     object\n",
       "MERCHANT_COUNTRY_ALPHA_2_ID     object\n",
       "MERCHANT_COUNTRY_NUMERIC_ID      int64\n",
       "MERCHANT_COUNTRY_DESC           object\n",
       "CARD_SCHEME_ID                  object\n",
       "CARD_SCHEME_TRX_REGION          object\n",
       "CRX_TRX_REGION                  object\n",
       "MD5_KEY                         object\n",
       "ETL_SOURCE_PRIORITY            float64\n",
       "DISPUTE_REASON_DESC             object\n",
       "DISPUTE_GROUP_DESC              object\n",
       "WORKFLOW_TYPE                   object\n",
       "dtype: object"
      ]
     },
     "execution_count": 35,
     "metadata": {},
     "output_type": "execute_result"
    }
   ],
   "source": [
    "trx_df.dtypes"
   ]
  },
  {
   "cell_type": "markdown",
   "id": "0d1a6924",
   "metadata": {},
   "source": [
    "After merging the tables using the keys, we can drop the irrelevant features:"
   ]
  },
  {
   "cell_type": "code",
   "execution_count": 36,
   "id": "c50426e2",
   "metadata": {},
   "outputs": [],
   "source": [
    "trx_df.drop([\"MD5_KEY\", \"ETL_SOURCE_PRIORITY\", \"DISPUTE_REASON_DESC\", \"DISPUTE_GROUP_DESC\", \"WORKFLOW_TYPE\"],\n",
    "            inplace=True, axis=1)  # mcc id?"
   ]
  },
  {
   "cell_type": "markdown",
   "id": "b68ad420",
   "metadata": {},
   "source": [
    "Some more cleanup: changing the REQUEST_TIME_UTC into datetime format, and getting rid of more columns which we deem to be irrelevant to the prediction of chargeback:"
   ]
  },
  {
   "cell_type": "code",
   "execution_count": 37,
   "id": "54fd50f0",
   "metadata": {},
   "outputs": [],
   "source": [
    "trx_df['REQUEST_TIME_UTC'] = pd.to_datetime(trx_df['REQUEST_TIME_UTC'])"
   ]
  },
  {
   "cell_type": "markdown",
   "id": "027c46ff",
   "metadata": {},
   "source": [
    "(TODO: change labels below)"
   ]
  },
  {
   "cell_type": "code",
   "execution_count": 39,
   "id": "ab74bb74",
   "metadata": {},
   "outputs": [
    {
     "ename": "KeyError",
     "evalue": "'DISPUTE_REASON_KEY'",
     "output_type": "error",
     "traceback": [
      "\u001b[1;31m---------------------------------------------------------------------------\u001b[0m",
      "\u001b[1;31mKeyError\u001b[0m                                  Traceback (most recent call last)",
      "Input \u001b[1;32mIn [39]\u001b[0m, in \u001b[0;36m<cell line: 1>\u001b[1;34m()\u001b[0m\n\u001b[1;32m----> 1\u001b[0m labels_gb \u001b[38;5;241m=\u001b[39m trx_df\u001b[38;5;241m.\u001b[39mgroupby(by\u001b[38;5;241m=\u001b[39m\u001b[38;5;124m'\u001b[39m\u001b[38;5;124mUNIQUE_TRX_KEY\u001b[39m\u001b[38;5;124m'\u001b[39m)\u001b[38;5;241m.\u001b[39mcount()\u001b[38;5;241m.\u001b[39msort_values(by\u001b[38;5;241m=\u001b[39m\u001b[38;5;124m'\u001b[39m\u001b[38;5;124mDISPUTE_REASON_KEY\u001b[39m\u001b[38;5;124m'\u001b[39m, ascending\u001b[38;5;241m=\u001b[39m\u001b[38;5;28;01mFalse\u001b[39;00m)\u001b[38;5;241m.\u001b[39mreset_index()\n\u001b[0;32m      2\u001b[0m labels_gb\u001b[38;5;241m.\u001b[39mrename(columns\u001b[38;5;241m=\u001b[39m {\u001b[38;5;124m'\u001b[39m\u001b[38;5;124mDISPUTE_REASON_KEY\u001b[39m\u001b[38;5;124m'\u001b[39m: \u001b[38;5;124m'\u001b[39m\u001b[38;5;124mCOUNT\u001b[39m\u001b[38;5;124m'\u001b[39m}, inplace\u001b[38;5;241m=\u001b[39m\u001b[38;5;28;01mTrue\u001b[39;00m)\n\u001b[0;32m      3\u001b[0m labels_gb[labels_gb[\u001b[38;5;124m'\u001b[39m\u001b[38;5;124mCOUNT\u001b[39m\u001b[38;5;124m'\u001b[39m] \u001b[38;5;241m>\u001b[39m \u001b[38;5;241m1\u001b[39m]\n",
      "File \u001b[1;32mc:\\users\\yonif\\appdata\\local\\programs\\python\\python39\\lib\\site-packages\\pandas\\util\\_decorators.py:311\u001b[0m, in \u001b[0;36mdeprecate_nonkeyword_arguments.<locals>.decorate.<locals>.wrapper\u001b[1;34m(*args, **kwargs)\u001b[0m\n\u001b[0;32m    305\u001b[0m \u001b[38;5;28;01mif\u001b[39;00m \u001b[38;5;28mlen\u001b[39m(args) \u001b[38;5;241m>\u001b[39m num_allow_args:\n\u001b[0;32m    306\u001b[0m     warnings\u001b[38;5;241m.\u001b[39mwarn(\n\u001b[0;32m    307\u001b[0m         msg\u001b[38;5;241m.\u001b[39mformat(arguments\u001b[38;5;241m=\u001b[39marguments),\n\u001b[0;32m    308\u001b[0m         \u001b[38;5;167;01mFutureWarning\u001b[39;00m,\n\u001b[0;32m    309\u001b[0m         stacklevel\u001b[38;5;241m=\u001b[39mstacklevel,\n\u001b[0;32m    310\u001b[0m     )\n\u001b[1;32m--> 311\u001b[0m \u001b[38;5;28;01mreturn\u001b[39;00m func(\u001b[38;5;241m*\u001b[39margs, \u001b[38;5;241m*\u001b[39m\u001b[38;5;241m*\u001b[39mkwargs)\n",
      "File \u001b[1;32mc:\\users\\yonif\\appdata\\local\\programs\\python\\python39\\lib\\site-packages\\pandas\\core\\frame.py:6307\u001b[0m, in \u001b[0;36mDataFrame.sort_values\u001b[1;34m(self, by, axis, ascending, inplace, kind, na_position, ignore_index, key)\u001b[0m\n\u001b[0;32m   6303\u001b[0m \u001b[38;5;28;01melif\u001b[39;00m \u001b[38;5;28mlen\u001b[39m(by):\n\u001b[0;32m   6304\u001b[0m     \u001b[38;5;66;03m# len(by) == 1\u001b[39;00m\n\u001b[0;32m   6306\u001b[0m     by \u001b[38;5;241m=\u001b[39m by[\u001b[38;5;241m0\u001b[39m]\n\u001b[1;32m-> 6307\u001b[0m     k \u001b[38;5;241m=\u001b[39m \u001b[38;5;28;43mself\u001b[39;49m\u001b[38;5;241;43m.\u001b[39;49m\u001b[43m_get_label_or_level_values\u001b[49m\u001b[43m(\u001b[49m\u001b[43mby\u001b[49m\u001b[43m,\u001b[49m\u001b[43m \u001b[49m\u001b[43maxis\u001b[49m\u001b[38;5;241;43m=\u001b[39;49m\u001b[43maxis\u001b[49m\u001b[43m)\u001b[49m\n\u001b[0;32m   6309\u001b[0m     \u001b[38;5;66;03m# need to rewrap column in Series to apply key function\u001b[39;00m\n\u001b[0;32m   6310\u001b[0m     \u001b[38;5;28;01mif\u001b[39;00m key \u001b[38;5;129;01mis\u001b[39;00m \u001b[38;5;129;01mnot\u001b[39;00m \u001b[38;5;28;01mNone\u001b[39;00m:\n\u001b[0;32m   6311\u001b[0m         \u001b[38;5;66;03m# error: Incompatible types in assignment (expression has type\u001b[39;00m\n\u001b[0;32m   6312\u001b[0m         \u001b[38;5;66;03m# \"Series\", variable has type \"ndarray\")\u001b[39;00m\n",
      "File \u001b[1;32mc:\\users\\yonif\\appdata\\local\\programs\\python\\python39\\lib\\site-packages\\pandas\\core\\generic.py:1848\u001b[0m, in \u001b[0;36mNDFrame._get_label_or_level_values\u001b[1;34m(self, key, axis)\u001b[0m\n\u001b[0;32m   1846\u001b[0m     values \u001b[38;5;241m=\u001b[39m \u001b[38;5;28mself\u001b[39m\u001b[38;5;241m.\u001b[39maxes[axis]\u001b[38;5;241m.\u001b[39mget_level_values(key)\u001b[38;5;241m.\u001b[39m_values\n\u001b[0;32m   1847\u001b[0m \u001b[38;5;28;01melse\u001b[39;00m:\n\u001b[1;32m-> 1848\u001b[0m     \u001b[38;5;28;01mraise\u001b[39;00m \u001b[38;5;167;01mKeyError\u001b[39;00m(key)\n\u001b[0;32m   1850\u001b[0m \u001b[38;5;66;03m# Check for duplicates\u001b[39;00m\n\u001b[0;32m   1851\u001b[0m \u001b[38;5;28;01mif\u001b[39;00m values\u001b[38;5;241m.\u001b[39mndim \u001b[38;5;241m>\u001b[39m \u001b[38;5;241m1\u001b[39m:\n",
      "\u001b[1;31mKeyError\u001b[0m: 'DISPUTE_REASON_KEY'"
     ]
    }
   ],
   "source": [
    "labels_gb = trx_df.groupby(by='UNIQUE_TRX_KEY').count().sort_values(by='DISPUTE_REASON_KEY', ascending=False).reset_index()\n",
    "labels_gb.rename(columns= {'DISPUTE_REASON_KEY': 'COUNT'}, inplace=True)\n",
    "labels_gb[labels_gb['COUNT'] > 1]"
   ]
  },
  {
   "cell_type": "markdown",
   "id": "ac71f108",
   "metadata": {},
   "source": [
    "Notice that we seem to have a few duplicates. Let's check a few of these entries:"
   ]
  },
  {
   "cell_type": "code",
   "execution_count": null,
   "id": "e0f30617",
   "metadata": {},
   "outputs": [],
   "source": [
    "labels_df[labels_df['UNIQUE_TRX_KEY'] == 925247439]"
   ]
  },
  {
   "cell_type": "markdown",
   "id": "ca126c03",
   "metadata": {},
   "source": [
    "In this case all chargeback reasons are identical, so it's likely just an error in the data and we can remove the duplicates. However..."
   ]
  },
  {
   "cell_type": "code",
   "execution_count": null,
   "id": "f1224110",
   "metadata": {},
   "outputs": [],
   "source": [
    "labels_df[labels_df['UNIQUE_TRX_KEY'] == 914863078]"
   ]
  },
  {
   "cell_type": "markdown",
   "id": "4f297e47",
   "metadata": {},
   "source": [
    "Here there seem to be two reasons for chargeback, as well as some duplicates. We have multiple choices how to deal with this imperfect data: we can treat the two rows as two separate transactions or decide to arbitrarily eliminate one of the chargeback reasons. Since there a likely no more than a few thousand of these cases (out of many millions) this likely won't make a difference and we'll stick with the first option, but it may be worth looking into this if we end up trying 40-category classification."
   ]
  },
  {
   "cell_type": "code",
   "execution_count": null,
   "id": "fce1b58f",
   "metadata": {},
   "outputs": [],
   "source": [
    "#data exploration"
   ]
  },
  {
   "cell_type": "markdown",
   "id": "3ba0140c",
   "metadata": {},
   "source": [
    "### Imbalanced Data and a discussion about metrics"
   ]
  },
  {
   "cell_type": "markdown",
   "id": "ab659560",
   "metadata": {},
   "source": [
    "One of the most important questions we must ask in a classification problem is whether or not the dataset is *balanced*. An unbalanced dataset could lead to poor results when training the dataset, since it's easy to reach the prediction that all transaction be predicted as OK (with a misleadingly high accuracy score!).\n",
    "\n",
    "For this problem we *expect* the data to be highly imbalanced, since most transaction are indeed OK. Let's see what our data tell us: "
   ]
  },
  {
   "cell_type": "code",
   "execution_count": null,
   "id": "9703d8b1",
   "metadata": {},
   "outputs": [],
   "source": [
    "binary_labels_gb = binary_labels_df.groupby(by='CHARGEBACK')['UNIQUE_TRX_KEY'].count().reset_index()\n",
    "binary_labels_gb['PERC'] = 100 * binary_labels_gb['UNIQUE_TRX_KEY']  / binary_labels_gb['UNIQUE_TRX_KEY'].sum()\n",
    "binary_labels_gb.rename(columns={'UNIQUE_TRX_KEY': 'COUNT'}, inplace=True)\n",
    "binary_labels_gb"
   ]
  },
  {
   "cell_type": "markdown",
   "id": "ff855876",
   "metadata": {},
   "source": [
    "Out of the entire dataset, only  of transactions are chargebacks! "
   ]
  },
  {
   "cell_type": "code",
   "execution_count": null,
   "id": "7408efbd",
   "metadata": {},
   "outputs": [],
   "source": []
  },
  {
   "cell_type": "code",
   "execution_count": null,
   "id": "66375cc1",
   "metadata": {},
   "outputs": [],
   "source": []
  },
  {
   "cell_type": "markdown",
   "id": "ac69f9d0",
   "metadata": {},
   "source": [
    "## Exploratory Data Analysis"
   ]
  },
  {
   "cell_type": "markdown",
   "id": "7edf92cc",
   "metadata": {},
   "source": [
    "Now that we've consolidated our data into one major table, it's time to examine our features in depth and, most importantly, to understand their relationship with the target variable.  "
   ]
  },
  {
   "cell_type": "code",
   "execution_count": null,
   "id": "3759870a",
   "metadata": {},
   "outputs": [],
   "source": [
    "res_df.info(verbose=True, null_counts=True)"
   ]
  },
  {
   "cell_type": "code",
   "execution_count": null,
   "id": "19020b4b",
   "metadata": {},
   "outputs": [],
   "source": [
    "# changing data type can save lots of memory space, implement a few changes if necessary (and doesn't hurt model)"
   ]
  },
  {
   "cell_type": "code",
   "execution_count": null,
   "id": "71902d58",
   "metadata": {},
   "outputs": [],
   "source": []
  },
  {
   "cell_type": "markdown",
   "id": "846805ed",
   "metadata": {},
   "source": [
    "### Country"
   ]
  },
  {
   "cell_type": "markdown",
   "id": "68710d79",
   "metadata": {},
   "source": [
    "Let's see where the chargeback is happening:"
   ]
  },
  {
   "cell_type": "code",
   "execution_count": null,
   "id": "1267966c",
   "metadata": {},
   "outputs": [],
   "source": [
    "country_gb = res_labels_df.groupby(by = 'COUNTRY_BY_BIN').agg({\"CHARGEBACK\": 'sum', \"MID\": 'count'}).reset_index()\n",
    "country_gb.rename(columns = {'MID': 'TOTAL_TRX'}, inplace=True)\n",
    "country_gb['PERC'] = country_gb['CHARGEBACK']/country_gb['TOTAL_TRX']\n",
    "country_gb.sort_values(by='CHARGEBACK', ascending=False)"
   ]
  },
  {
   "cell_type": "markdown",
   "id": "7212d533",
   "metadata": {},
   "source": [
    "We notice the following:\n",
    "1. \n",
    "2."
   ]
  },
  {
   "cell_type": "code",
   "execution_count": null,
   "id": "ab6fe701",
   "metadata": {},
   "outputs": [],
   "source": [
    "country_gb.sort_values(by='TOTAL_TRX', ascending=False)"
   ]
  },
  {
   "cell_type": "markdown",
   "id": "bce2e903",
   "metadata": {},
   "source": [
    "There are countries with very few transactions; from the entire dataset, there is only one transaction which occured in Libya etc."
   ]
  },
  {
   "cell_type": "markdown",
   "id": "e5ff88af",
   "metadata": {},
   "source": [
    "### Card Type"
   ]
  },
  {
   "cell_type": "code",
   "execution_count": null,
   "id": "283cf204",
   "metadata": {},
   "outputs": [],
   "source": [
    "card_gb = res_labels_df.groupby(by = 'CARD_SCHEME_DESC').agg({\"CHARGEBACK\": 'sum', \"MID\": 'count'}).reset_index()\n",
    "card_gb.rename(columns = {'MID': 'TOTAL_TRX'}, inplace=True)\n",
    "card_gb['PERC'] = card_gb['CHARGEBACK']/card_gb['TOTAL_TRX']\n",
    "card_gb.sort_values(by='CHARGEBACK', ascending=False)"
   ]
  },
  {
   "cell_type": "markdown",
   "id": "273e28a4",
   "metadata": {},
   "source": [
    "### Merchants"
   ]
  },
  {
   "cell_type": "code",
   "execution_count": null,
   "id": "2171afd1",
   "metadata": {},
   "outputs": [],
   "source": []
  },
  {
   "cell_type": "code",
   "execution_count": null,
   "id": "40f7f9cf",
   "metadata": {},
   "outputs": [],
   "source": [
    "mcc_gb = mcc_join.groupby(by = 'MCC_GROUP').agg({\"CHARGEBACK\": 'sum', \"MID\": 'count'}).reset_index()\n",
    "mcc_gb.rename(columns = {'MID': 'TOTAL_TRX'}, inplace=True)\n",
    "mcc_gb['PERC'] = mcc_gb['CHARGEBACK']/mcc_gb['TOTAL_TRX']\n",
    "mcc_gb.sort_values(by='CHARGEBACK', ascending=False)"
   ]
  },
  {
   "cell_type": "code",
   "execution_count": null,
   "id": "87a7af48",
   "metadata": {},
   "outputs": [],
   "source": [
    "mcc_gb.sort_values(by='PERC', ascending=False)"
   ]
  },
  {
   "cell_type": "code",
   "execution_count": null,
   "id": "46d214e1",
   "metadata": {},
   "outputs": [],
   "source": []
  },
  {
   "cell_type": "code",
   "execution_count": null,
   "id": "6de1160e",
   "metadata": {},
   "outputs": [],
   "source": [
    "mid_check = res_labels_df.groupby(by = 'MID').agg({\"CHARGEBACK\": 'sum', \"UNIQUE_TRX_KEY\": 'count'}).reset_index()\n",
    "mid_check.rename(columns = {'UNIQUE_TRX_KEY': 'TOTAL_TRX'}, inplace=True)\n",
    "mid_check['PERC'] = mid_check['CHARGEBACK']/mid_check['TOTAL_TRX']\n",
    "mid_check.sort_values(by='CHARGEBACK', ascending=False)"
   ]
  },
  {
   "cell_type": "code",
   "execution_count": null,
   "id": "3d56f75f",
   "metadata": {},
   "outputs": [],
   "source": [
    "import matplotlib.pyplot as pls \n",
    "mid_copy = mid_check.sort_values(by='CHARGEBACK', ascending=False).iloc[0:600, :]\n",
    "mid_copy.plot(x='MID', y='CHARGEBACK', kind='bar') \n",
    "plt.show()"
   ]
  },
  {
   "cell_type": "markdown",
   "id": "3a2a7f5f",
   "metadata": {},
   "source": [
    "We now check the IS_VISA_HIGH_RISK feature - does a high-risk Visa card lead to a higher percentage of chargebacks?"
   ]
  },
  {
   "cell_type": "code",
   "execution_count": null,
   "id": "44ac407d",
   "metadata": {},
   "outputs": [],
   "source": [
    "mcc_visa_risk_gb = mcc_join.groupby(by = 'IS_VISA_HIGH_RISK').agg({\"CHARGEBACK\": 'sum', \"MID\": 'count'}).reset_index()\n",
    "mcc_visa_risk_gb.rename(columns = {'MID': 'TOTAL_TRX'}, inplace=True)\n",
    "mcc_visa_risk_gb['PERC'] = mcc_visa_risk_gb['CHARGEBACK']/mcc_visa_risk_gb['TOTAL_TRX']\n",
    "mcc_visa_risk_gb.sort_values(by='CHARGEBACK', ascending=False)"
   ]
  },
  {
   "cell_type": "markdown",
   "id": "afd70c47",
   "metadata": {},
   "source": [
    "That seems quite counterintuitive. Perhaps it's because..."
   ]
  },
  {
   "cell_type": "markdown",
   "id": "38a12ae2",
   "metadata": {},
   "source": [
    "### Currency"
   ]
  },
  {
   "cell_type": "markdown",
   "id": "80a21d28",
   "metadata": {},
   "source": [
    "### Time of Day"
   ]
  },
  {
   "cell_type": "markdown",
   "id": "d1fe4d5c",
   "metadata": {},
   "source": [
    "## Further Modeling"
   ]
  },
  {
   "cell_type": "markdown",
   "id": "a8fff38a",
   "metadata": {},
   "source": [
    "### Separating time"
   ]
  },
  {
   "cell_type": "code",
   "execution_count": null,
   "id": "2e679aa9",
   "metadata": {},
   "outputs": [],
   "source": [
    "mod_df['DATE'] =  pd.DatetimeIndex(mod_df['REQUEST_TIME_UTC']).day\n",
    "mod_df['DAY'] = pd.DatetimeIndex(mod_df['REQUEST_TIME_UTC']).dayofweek \n",
    "mod_df['HOUR'] =  pd.DatetimeIndex(mod_df['REQUEST_TIME_UTC']).hour\n",
    "\n",
    "mod_df.drop(\"REQUEST_TIME_UTC\", inplace=True, axis=1)\n",
    "mod_df.head()"
   ]
  },
  {
   "cell_type": "code",
   "execution_count": null,
   "id": "e8ff8d8c",
   "metadata": {},
   "outputs": [],
   "source": []
  },
  {
   "cell_type": "markdown",
   "id": "82c03761",
   "metadata": {},
   "source": [
    "### Defining categorical features numerically"
   ]
  },
  {
   "cell_type": "code",
   "execution_count": null,
   "id": "037bb36b",
   "metadata": {},
   "outputs": [],
   "source": [
    "# Visa (0) vs Mastercard (1)\n",
    "mod_df.loc[(mod_df.CARD_SCHEME_DESC == 'Mastercard'),'CARD_SCHEME_DESC']= 1\n",
    "mod_df.loc[(mod_df.CARD_SCHEME_DESC == 'Visa'),'CARD_SCHEME_DESC']= 0\n",
    "\n",
    "# Assigning numbers to each currency category\n",
    "mod_df[\"TRX_CURRENCY\"] = mod_df[\"TRX_CURRENCY\"].astype('category')\n",
    "mod_df[\"CURRENCY\"] = mod_df[\"TRX_CURRENCY\"].cat.codes\n",
    "mod_df.drop(\"TRX_CURRENCY\", inplace=True, axis=1)\n",
    "\n",
    "\n",
    "\n",
    "mod_df.head()"
   ]
  },
  {
   "cell_type": "markdown",
   "id": "62a8977b",
   "metadata": {},
   "source": [
    "### One-hot Encoding for Categorical Features"
   ]
  },
  {
   "cell_type": "code",
   "execution_count": null,
   "id": "f7118d5d",
   "metadata": {},
   "outputs": [],
   "source": [
    "curr_enc = pd.get_dummies(mod_res.TRX_CURRENCY, prefix='Currency')\n",
    "merc_enc = pd.get_dummies(mod_res.MCC_GROUP, prefix='Merch')\n",
    "card_enc = pd.get_dummies(mod_res.CARD_SCHEME_DESC, prefix='Card')\n",
    "day_enc = pd.get_dummies(mod_res.DAY, prefix='Day')\n",
    "\n",
    "mod_res.drop(\"TRX_CURRENCY\",  inplace=True, axis=1)\n",
    "mod_res.drop(\"MCC_GROUP\",  inplace=True, axis=1)\n",
    "mod_res.drop(\"CARD_SCHEME_DESC\",  inplace=True, axis=1)\n",
    "mod_res.drop(\"DAY\",  inplace=True, axis=1)\n",
    "\n",
    "mod_res = mod_res.join(curr_enc)\n",
    "mod_res = mod_res.join(merc_enc)\n",
    "mod_res = mod_res.join(card_enc)\n",
    "mod_res = mod_res.join(day_enc)\n",
    "\n",
    "#delete clutter variables\n",
    "del curr_enc\n",
    "del merc_enc\n",
    "del card_enc\n",
    "del day_enc\n",
    "\n",
    "mod_res.info()"
   ]
  },
  {
   "cell_type": "code",
   "execution_count": null,
   "id": "c9b800df",
   "metadata": {},
   "outputs": [],
   "source": [
    "mod_df.set_index(\"UNIQUE_TRX_KEY\")"
   ]
  },
  {
   "cell_type": "markdown",
   "id": "d1885f21",
   "metadata": {},
   "source": [
    "### Rearranging the columns (fix, naturally)"
   ]
  },
  {
   "cell_type": "code",
   "execution_count": null,
   "id": "bd719735",
   "metadata": {},
   "outputs": [],
   "source": [
    "cols = mod_df.columns.tolist()\n",
    "cols = cols[0:8] + cols[9:] + cols[8:9]\n",
    "\n",
    "mod_df = mod_df[cols]\n",
    "mod_df.head()"
   ]
  },
  {
   "cell_type": "code",
   "execution_count": null,
   "id": "d4f2a271",
   "metadata": {},
   "outputs": [],
   "source": []
  },
  {
   "cell_type": "code",
   "execution_count": null,
   "id": "70448cc3",
   "metadata": {},
   "outputs": [],
   "source": []
  },
  {
   "cell_type": "markdown",
   "id": "de3c4480",
   "metadata": {},
   "source": [
    "## Classification Modeling"
   ]
  },
  {
   "cell_type": "markdown",
   "id": "875ac6bc",
   "metadata": {},
   "source": [
    "Overview of classification techniques and deliberations"
   ]
  },
  {
   "cell_type": "code",
   "execution_count": null,
   "id": "1dcc63d9",
   "metadata": {},
   "outputs": [],
   "source": []
  },
  {
   "cell_type": "markdown",
   "id": "eb7b6f62",
   "metadata": {},
   "source": [
    "### Calculation of Profit"
   ]
  },
  {
   "cell_type": "markdown",
   "id": "b253fb09",
   "metadata": {},
   "source": [
    "The following function calculates the profit based on the predictions (denoted \"y_hat\") compared to the actual result."
   ]
  },
  {
   "cell_type": "code",
   "execution_count": null,
   "id": "e36e5889",
   "metadata": {},
   "outputs": [],
   "source": [
    "def calculate_profit(y_actual, y_hat, amount):\n",
    "    profit = 0\n",
    "    for i in range(len(y_hat)): \n",
    "        if y_hat[i] == 1 and y_actual[i] == 0: # FP\n",
    "           profit -= 2*amount[i]\n",
    "        if y_actual[i] == y_hat[i] == 0: # TN\n",
    "           profit += 0.15*amount[i]\n",
    "        if y_hat[i] == 0 and y_actual[i] == 1: # FN\n",
    "           profit -= 2.3*amount[i]\n",
    "    return (profit)"
   ]
  },
  {
   "cell_type": "markdown",
   "id": "ed312f50",
   "metadata": {},
   "source": [
    "However, presenting results in terms of absolute profit doesn't allow for a fair comparison between datasets with a different number of transactions; naturally if there are more samples a higher profit can be achieved, even if the model is substantially poorer.\n",
    "\n",
    "To overcome this issue, we must **normalize** the profit metric. In our opinion, the best way to do this is to examine the maximum possible profit one can realize for the samples offered (i.e. the model is perfect) and divide the actual profit by this number. This results in a number between 0 and 1. The baseline model is normalized in a similar manner, thus allowing for a good comparison between it and our models.\n",
    "\n",
    "Let us define a similar function which returns the maximum possible profit, when no error (false positive or true negative) was made:"
   ]
  },
  {
   "cell_type": "code",
   "execution_count": null,
   "id": "b19e3e2a",
   "metadata": {},
   "outputs": [],
   "source": [
    "def maxvalid_profit(y_actual, amount):\n",
    "    profit = 0\n",
    "    for i in range(len(y_actual)): \n",
    "        if y_actual[i] == 0: # TN\n",
    "           profit += 0.15*amount[i]\n",
    "    return (profit)"
   ]
  },
  {
   "cell_type": "code",
   "execution_count": null,
   "id": "2c586ec7",
   "metadata": {},
   "outputs": [],
   "source": []
  },
  {
   "cell_type": "code",
   "execution_count": null,
   "id": "22310a47",
   "metadata": {},
   "outputs": [],
   "source": []
  },
  {
   "cell_type": "markdown",
   "id": "d14007bb",
   "metadata": {},
   "source": [
    "### Specifying the Target Variable"
   ]
  },
  {
   "cell_type": "code",
   "execution_count": null,
   "id": "23f37fe8",
   "metadata": {},
   "outputs": [],
   "source": [
    "# Splitting the dataset into features (X) and target variable (Y).\n",
    "X = mod_res.values[:, :-1]\n",
    "Y = mod_res.values[:,-1]\n",
    "Y=Y.astype('int')"
   ]
  },
  {
   "cell_type": "markdown",
   "id": "31debd50",
   "metadata": {},
   "source": [
    "### Splitting data into training-validation-test"
   ]
  },
  {
   "cell_type": "code",
   "execution_count": null,
   "id": "4318ab43",
   "metadata": {},
   "outputs": [],
   "source": [
    "from sklearn.model_selection import train_test_split\n",
    "x_trainAndVal, x_test, y_trainAndVal, y_test = train_test_split(X, Y, test_size=0.75, random_state = 123)\n",
    "x_train, x_validation, y_train, y_validation = train_test_split(x_trainAndVal, y_trainAndVal, test_size=0.30, random_state = 123)\n",
    "x_train_base, x_train_op, y_train_base, y_train_op = train_test_split(x_train, y_train, test_size=0.10, random_state = 123)"
   ]
  },
  {
   "cell_type": "markdown",
   "id": "ebf4e8a6",
   "metadata": {},
   "source": [
    "### Downsampling"
   ]
  },
  {
   "cell_type": "markdown",
   "id": "b6f77d33",
   "metadata": {},
   "source": [
    "As mentioned above, due to the highly imbalanced nature of the dataset, some technique must be used to avoid overfitting and improve the metrics. Since we have a very large number of samples, it makes sense to **downsample** (= remove a certain percentage of the majority (non-chargeback) samples) our data which can both improve performance and allow for faster modeling. \n",
    "\n",
    "Other methods for dealing with imbalanced data include ......... "
   ]
  },
  {
   "cell_type": "code",
   "execution_count": null,
   "id": "6e3f79dd",
   "metadata": {},
   "outputs": [],
   "source": [
    "DownsamplingFlag = True\n",
    "\n",
    "if DownsamplingFlag:\n",
    "  from sklearn.utils import resample\n",
    "\n",
    "  mod_res_train_base = np.c_[x_train_base, y_train_base]\n",
    "  mod_res_majority = mod_res_train_base[mod_res_train_base[:,-1]==0]\n",
    "  mod_res_minority = mod_res_train_base[mod_res_train_base[:,-1]==1]\n",
    " \n",
    "  # Downsample majority class\n",
    "  mod_res_majority_downsampled = resample(mod_res_majority, \n",
    "                                   replace=False,    # sample without replacement\n",
    "                                   n_samples=int(0.2*len(y_train_base)), #make data ~5%    \n",
    "                                   random_state=23) # reproducible results. Tried on 5, 23,\n",
    " \n",
    "  # Combine minority class with downsampled majority class\n",
    "  mod_res = np.r_[mod_res_majority_downsampled, mod_res_minority]\n",
    " \n",
    "  #delete clutter variables\n",
    "  del mod_res_minority\n",
    "  del mod_res_majority\n",
    "  del mod_res_majority_downsampled\n",
    "\n",
    "  x_train_base = mod_res[:, :-1]\n",
    "  y_train_base = mod_res[:,-1]\n",
    "  y_train_base = y_train_base.astype('int')"
   ]
  },
  {
   "cell_type": "markdown",
   "id": "36ba6b91",
   "metadata": {},
   "source": [
    "### Baseline Model"
   ]
  },
  {
   "cell_type": "markdown",
   "id": "653ee638",
   "metadata": {},
   "source": [
    "In machine learning, it is highly recommended to decide on a simple baseline model to which other models can be compared to. In this case, the simplest model happens to be the company's current policy: assume all transactions are OK (no chargebacks), which for the vast majority of cases is entirely correct! That being said, the company understand the long and short-term losses which the type II (false negative) errors accrue, and that's what we're trying to accomplish by building a better classification model.\n",
    "\n",
    "Let's examine the companies profit (normalized by the maximum possible profit, as mentioned previously) if all transactions are predicted to be OK (no chargeback). "
   ]
  },
  {
   "cell_type": "code",
   "execution_count": null,
   "id": "ef91ba68",
   "metadata": {},
   "outputs": [],
   "source": []
  },
  {
   "cell_type": "code",
   "execution_count": null,
   "id": "4aa798ba",
   "metadata": {},
   "outputs": [],
   "source": []
  },
  {
   "cell_type": "markdown",
   "id": "ab3de58a",
   "metadata": {},
   "source": [
    "### Logistic Regression"
   ]
  },
  {
   "cell_type": "markdown",
   "id": "5ac95b64",
   "metadata": {},
   "source": [
    "One of the simpler models worth trying out is logistic regression. In this model, "
   ]
  },
  {
   "cell_type": "code",
   "execution_count": null,
   "id": "a0169224",
   "metadata": {},
   "outputs": [],
   "source": [
    "from sklearn.linear_model import LogisticRegression\n",
    "lr_mdl = LogisticRegression(random_state=0).fit(x_train_base, y_train_base)"
   ]
  },
  {
   "cell_type": "markdown",
   "id": "270e2014",
   "metadata": {},
   "source": [
    "### Decision Tree"
   ]
  },
  {
   "cell_type": "markdown",
   "id": "46ddd10c",
   "metadata": {},
   "source": []
  },
  {
   "cell_type": "code",
   "execution_count": null,
   "id": "a62c107c",
   "metadata": {},
   "outputs": [],
   "source": [
    "from sklearn.tree import DecisionTreeClassifier\n",
    "dt_mdl = DecisionTreeClassifier().fit(x_train_base, y_train_base)"
   ]
  },
  {
   "cell_type": "markdown",
   "id": "fe8d37bb",
   "metadata": {},
   "source": [
    "### Random Forest"
   ]
  },
  {
   "cell_type": "markdown",
   "id": "ed433612",
   "metadata": {},
   "source": [
    "Random Forest is generally consider a highly robust and useful model, which can be further improved by hyperparameter tuning, as we shall see later."
   ]
  },
  {
   "cell_type": "code",
   "execution_count": null,
   "id": "7d496d40",
   "metadata": {},
   "outputs": [],
   "source": [
    "from sklearn.ensemble import RandomForestClassifier\n",
    "rf_mdl = RandomForestClassifier(max_depth=40, random_state=123).fit(x_train_base, y_train_base)"
   ]
  },
  {
   "cell_type": "markdown",
   "id": "acaf8e7d",
   "metadata": {},
   "source": [
    "### XGBoost"
   ]
  },
  {
   "cell_type": "markdown",
   "id": "297d9747",
   "metadata": {},
   "source": []
  },
  {
   "cell_type": "code",
   "execution_count": null,
   "id": "b485dd29",
   "metadata": {},
   "outputs": [],
   "source": [
    "import xgboost as xgb\n",
    "from xgboost import XGBClassifier\n",
    "data_dmatrix = xgb.DMatrix(data=x_train_base,label=y_train_base)\n",
    "xgb_mdl = xgb.XGBClassifier(learning_rate =0.1,n_estimators=300,max_depth=5,min_child_weight=1,gamma=0,subsample=0.8,\n",
    "                          colsample_bytree=0.8,objective='binary:logistic',nthread=4,scale_pos_weight=1,seed=125)\n",
    "                        .fit(x_train, y_train)"
   ]
  },
  {
   "cell_type": "markdown",
   "id": "623f6f3a",
   "metadata": {},
   "source": [
    "XGBoost allows us to examine feature importance, in order to potentially isolate features which are irrelevant to the target variable and may results in unnecessary overfitting:"
   ]
  },
  {
   "cell_type": "code",
   "execution_count": null,
   "id": "dbbfbea7",
   "metadata": {},
   "outputs": [],
   "source": [
    "from matplotlib import pyplot\n",
    "from xgboost import plot_importance\n",
    "from xgboost import Booster\n",
    "mdl.get_booster().feature_names = list(mod_res.columns)\n",
    "plot_importance(mdl)"
   ]
  },
  {
   "cell_type": "code",
   "execution_count": null,
   "id": "bdfc0d5f",
   "metadata": {},
   "outputs": [],
   "source": []
  },
  {
   "cell_type": "markdown",
   "id": "3c2d0565",
   "metadata": {},
   "source": [
    "### Making the predictions"
   ]
  },
  {
   "cell_type": "markdown",
   "id": "b5035012",
   "metadata": {},
   "source": [
    "The following function takes the validation set and predicts the target variable for each sample, after which the predicted values can be compared to the actual values in order to compute the total profit (see the \"calculate_profit\" function defined earlier) normalized by the maximum profit (see the \"max_valid_profit\" function). The function returns the profit, the normalized profit, and the auxiliary F1 score; by defining this function we can test how the predictions fare for various classification threshold and thus optimize using the ideal threshold.  "
   ]
  },
  {
   "cell_type": "code",
   "execution_count": null,
   "id": "c399ce36",
   "metadata": {},
   "outputs": [],
   "source": [
    "def predictions (x_validation, y_validation, threshold, mdl):\n",
    "\n",
    "  y_pred_prob = mdl.predict_proba(x_validation)      \n",
    "    # We use the predict_proba function to compute probability, instead of using the predict function directly. \n",
    "  y_pred = np.where(y_pred_prob[:,1] > threshold, 1, 0)    # If probabilty for CB larger than threshold, mark as CB.\n",
    "  #sum(y_pred)/len(y_pred)     # % of transactions marked as risky for chargebacks.\n",
    "  model_profit = calculate_profit(y_validation, y_pred, x_validation[:,2]) \n",
    "  normalized_profit = model_profit / maxvalid_profit(y_validation, x_validation[:,2])\n",
    "  tn, fp, fn, tp = confusion_matrix(y_pred,y_validation).ravel()\n",
    "  print(tn, fp, fn, tp)\n",
    "  precision = tp/(tp+fp)\n",
    "  recall = tp/(tp+fn)\n",
    "  F1 = 2 * (precision * recall) / (precision + recall)\n",
    "  return [model_profit, normalized_profit, F1]"
   ]
  },
  {
   "cell_type": "code",
   "execution_count": null,
   "id": "7965ebc7",
   "metadata": {},
   "outputs": [],
   "source": []
  },
  {
   "cell_type": "code",
   "execution_count": null,
   "id": "baefc518",
   "metadata": {},
   "outputs": [],
   "source": []
  },
  {
   "cell_type": "code",
   "execution_count": null,
   "id": "59cdb497",
   "metadata": {},
   "outputs": [],
   "source": []
  },
  {
   "cell_type": "code",
   "execution_count": null,
   "id": "8747b443",
   "metadata": {},
   "outputs": [],
   "source": []
  }
 ],
 "metadata": {
  "kernelspec": {
   "display_name": "Python 3 (ipykernel)",
   "language": "python",
   "name": "python3"
  },
  "language_info": {
   "codemirror_mode": {
    "name": "ipython",
    "version": 3
   },
   "file_extension": ".py",
   "mimetype": "text/x-python",
   "name": "python",
   "nbconvert_exporter": "python",
   "pygments_lexer": "ipython3",
   "version": "3.9.5"
  }
 },
 "nbformat": 4,
 "nbformat_minor": 5
}
